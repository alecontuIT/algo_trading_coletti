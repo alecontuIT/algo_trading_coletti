{
 "cells": [
  {
   "cell_type": "markdown",
   "id": "32739842",
   "metadata": {},
   "source": [
    "# Return and Volatility"
   ]
  },
  {
   "cell_type": "code",
   "execution_count": null,
   "id": "39ba3a66",
   "metadata": {},
   "outputs": [],
   "source": [
    "import pandas as pd\n",
    "import numpy as np\n",
    "import yfinance as yf\n",
    "import matplotlib.pyplot as plt\n",
    "plt.style.use('seaborn')"
   ]
  },
  {
   "cell_type": "code",
   "execution_count": 2,
   "id": "20c88b2f",
   "metadata": {},
   "outputs": [],
   "source": [
    "# Tickers of the firm\n",
    "# AAPL: Apple\n",
    "# BA: Boeing\n",
    "# KO: Coca-Cola\n",
    "# IBM: IBM\n",
    "# DIS: Disney\n",
    "# MSFT: Microsoft\n",
    "tickers = ['AAPL', 'BA', 'KO', 'IBM', 'DIS', 'MSFT']"
   ]
  },
  {
   "cell_type": "code",
   "execution_count": 3,
   "id": "242cab75",
   "metadata": {
    "scrolled": true
   },
   "outputs": [
    {
     "name": "stdout",
     "output_type": "stream",
     "text": [
      "[*********************100%%**********************]  6 of 6 completed\n"
     ]
    }
   ],
   "source": [
    "stocks = yf.download(tickers, start='2015-01-01')['Adj Close']"
   ]
  },
  {
   "cell_type": "code",
   "execution_count": 4,
   "id": "b39e983d",
   "metadata": {},
   "outputs": [
    {
     "data": {
      "text/html": [
       "<div>\n",
       "<style scoped>\n",
       "    .dataframe tbody tr th:only-of-type {\n",
       "        vertical-align: middle;\n",
       "    }\n",
       "\n",
       "    .dataframe tbody tr th {\n",
       "        vertical-align: top;\n",
       "    }\n",
       "\n",
       "    .dataframe thead th {\n",
       "        text-align: right;\n",
       "    }\n",
       "</style>\n",
       "<table border=\"1\" class=\"dataframe\">\n",
       "  <thead>\n",
       "    <tr style=\"text-align: right;\">\n",
       "      <th></th>\n",
       "      <th>AAPL</th>\n",
       "      <th>BA</th>\n",
       "      <th>DIS</th>\n",
       "      <th>IBM</th>\n",
       "      <th>KO</th>\n",
       "      <th>MSFT</th>\n",
       "    </tr>\n",
       "    <tr>\n",
       "      <th>Date</th>\n",
       "      <th></th>\n",
       "      <th></th>\n",
       "      <th></th>\n",
       "      <th></th>\n",
       "      <th></th>\n",
       "      <th></th>\n",
       "    </tr>\n",
       "  </thead>\n",
       "  <tbody>\n",
       "    <tr>\n",
       "      <th>2015-01-02</th>\n",
       "      <td>24.435270</td>\n",
       "      <td>113.657211</td>\n",
       "      <td>87.092400</td>\n",
       "      <td>103.354820</td>\n",
       "      <td>31.347847</td>\n",
       "      <td>40.378071</td>\n",
       "    </tr>\n",
       "    <tr>\n",
       "      <th>2015-01-05</th>\n",
       "      <td>23.746889</td>\n",
       "      <td>112.870064</td>\n",
       "      <td>85.819702</td>\n",
       "      <td>101.728539</td>\n",
       "      <td>31.347847</td>\n",
       "      <td>40.006760</td>\n",
       "    </tr>\n",
       "    <tr>\n",
       "      <th>2015-01-06</th>\n",
       "      <td>23.749121</td>\n",
       "      <td>111.540634</td>\n",
       "      <td>85.364502</td>\n",
       "      <td>99.534683</td>\n",
       "      <td>31.585876</td>\n",
       "      <td>39.419571</td>\n",
       "    </tr>\n",
       "    <tr>\n",
       "      <th>2015-01-07</th>\n",
       "      <td>24.082138</td>\n",
       "      <td>113.272385</td>\n",
       "      <td>86.237747</td>\n",
       "      <td>98.884132</td>\n",
       "      <td>31.980158</td>\n",
       "      <td>39.920414</td>\n",
       "    </tr>\n",
       "    <tr>\n",
       "      <th>2015-01-08</th>\n",
       "      <td>25.007429</td>\n",
       "      <td>115.275284</td>\n",
       "      <td>87.129585</td>\n",
       "      <td>101.033379</td>\n",
       "      <td>32.366978</td>\n",
       "      <td>41.094795</td>\n",
       "    </tr>\n",
       "    <tr>\n",
       "      <th>...</th>\n",
       "      <td>...</td>\n",
       "      <td>...</td>\n",
       "      <td>...</td>\n",
       "      <td>...</td>\n",
       "      <td>...</td>\n",
       "      <td>...</td>\n",
       "    </tr>\n",
       "    <tr>\n",
       "      <th>2024-04-04</th>\n",
       "      <td>168.820007</td>\n",
       "      <td>183.289993</td>\n",
       "      <td>117.089996</td>\n",
       "      <td>187.940002</td>\n",
       "      <td>59.299999</td>\n",
       "      <td>417.880005</td>\n",
       "    </tr>\n",
       "    <tr>\n",
       "      <th>2024-04-05</th>\n",
       "      <td>169.580002</td>\n",
       "      <td>183.139999</td>\n",
       "      <td>118.379997</td>\n",
       "      <td>189.139999</td>\n",
       "      <td>59.509998</td>\n",
       "      <td>425.519989</td>\n",
       "    </tr>\n",
       "    <tr>\n",
       "      <th>2024-04-08</th>\n",
       "      <td>168.449997</td>\n",
       "      <td>181.559998</td>\n",
       "      <td>117.349998</td>\n",
       "      <td>189.820007</td>\n",
       "      <td>59.270000</td>\n",
       "      <td>424.589996</td>\n",
       "    </tr>\n",
       "    <tr>\n",
       "      <th>2024-04-09</th>\n",
       "      <td>169.669998</td>\n",
       "      <td>178.119995</td>\n",
       "      <td>117.970001</td>\n",
       "      <td>189.309998</td>\n",
       "      <td>59.720001</td>\n",
       "      <td>426.279999</td>\n",
       "    </tr>\n",
       "    <tr>\n",
       "      <th>2024-04-10</th>\n",
       "      <td>168.289993</td>\n",
       "      <td>175.660004</td>\n",
       "      <td>117.375000</td>\n",
       "      <td>187.604996</td>\n",
       "      <td>59.040001</td>\n",
       "      <td>421.380005</td>\n",
       "    </tr>\n",
       "  </tbody>\n",
       "</table>\n",
       "<p>2333 rows × 6 columns</p>\n",
       "</div>"
      ],
      "text/plain": [
       "                  AAPL          BA         DIS         IBM         KO  \\\n",
       "Date                                                                    \n",
       "2015-01-02   24.435270  113.657211   87.092400  103.354820  31.347847   \n",
       "2015-01-05   23.746889  112.870064   85.819702  101.728539  31.347847   \n",
       "2015-01-06   23.749121  111.540634   85.364502   99.534683  31.585876   \n",
       "2015-01-07   24.082138  113.272385   86.237747   98.884132  31.980158   \n",
       "2015-01-08   25.007429  115.275284   87.129585  101.033379  32.366978   \n",
       "...                ...         ...         ...         ...        ...   \n",
       "2024-04-04  168.820007  183.289993  117.089996  187.940002  59.299999   \n",
       "2024-04-05  169.580002  183.139999  118.379997  189.139999  59.509998   \n",
       "2024-04-08  168.449997  181.559998  117.349998  189.820007  59.270000   \n",
       "2024-04-09  169.669998  178.119995  117.970001  189.309998  59.720001   \n",
       "2024-04-10  168.289993  175.660004  117.375000  187.604996  59.040001   \n",
       "\n",
       "                  MSFT  \n",
       "Date                    \n",
       "2015-01-02   40.378071  \n",
       "2015-01-05   40.006760  \n",
       "2015-01-06   39.419571  \n",
       "2015-01-07   39.920414  \n",
       "2015-01-08   41.094795  \n",
       "...                ...  \n",
       "2024-04-04  417.880005  \n",
       "2024-04-05  425.519989  \n",
       "2024-04-08  424.589996  \n",
       "2024-04-09  426.279999  \n",
       "2024-04-10  421.380005  \n",
       "\n",
       "[2333 rows x 6 columns]"
      ]
     },
     "execution_count": 4,
     "metadata": {},
     "output_type": "execute_result"
    }
   ],
   "source": [
    "stocks"
   ]
  },
  {
   "cell_type": "code",
   "execution_count": 5,
   "id": "91cf54be",
   "metadata": {},
   "outputs": [
    {
     "data": {
      "image/png": "[encoded data removed]",
      "text/plain": [
       "<Figure size 1080x576 with 1 Axes>"
      ]
     },
     "metadata": {
      "needs_background": "light"
     },
     "output_type": "display_data"
    }
   ],
   "source": [
    "stocks.plot(figsize=(15,8), fontsize=18)\n",
    "plt.legend(fontsize=18)\n",
    "plt.title('Stocks prices comparison', fontsize=18)\n",
    "plt.show()"
   ]
  },
  {
   "cell_type": "markdown",
   "id": "b33ffdb2",
   "metadata": {},
   "source": [
    "Looking at the plot we can think that Coca-Cola ('KO', the yellow line) is almost no-varying compared to the others stock. The reality is that we're looking at the price of the sigle stocks, and they can differ a lot. Thus, in order to have an equal comparison, we must rescale the values. We do it by dividing the stocks values with their value at time 0:"
   ]
  },
  {
   "cell_type": "code",
   "execution_count": 6,
   "id": "fe607a6f",
   "metadata": {},
   "outputs": [
    {
     "data": {
      "image/png": "[encoded data removed]",
      "text/plain": [
       "<Figure size 1080x576 with 1 Axes>"
      ]
     },
     "metadata": {
      "needs_background": "light"
     },
     "output_type": "display_data"
    }
   ],
   "source": [
    "initial_values = stocks.iloc[0,:]\n",
    "(stocks/initial_values).plot(figsize=(15,8), fontsize=18)\n",
    "plt.legend(fontsize=18)\n",
    "plt.title('Rescaled stocks prices comparison', fontsize=18)\n",
    "plt.show()"
   ]
  },
  {
   "cell_type": "markdown",
   "id": "006e673d",
   "metadata": {},
   "source": [
    "Looking at the normalized prices, we can see that Microsot and Apple are the best performing one."
   ]
  },
  {
   "cell_type": "markdown",
   "id": "eed09873",
   "metadata": {},
   "source": [
    "# Returns\n",
    "\n",
    "We can compute the returns now. We can compute two kinds of returns:\n",
    "\n",
    "### Simple Returns\n",
    "Is computed as the price of today minus the price of yesterday, all divided by the price of yesterday.\n",
    "\n",
    "$SR_t = \\frac{PRICE_t - PRICE_{t-1}}{PRICE_{t-1}}$\n",
    "\n",
    "How to compute that using Python? In order to have to the same row the price of today and the price of yesterday, we can use the method *shift(n)*. It will shift the rows *n* times. So, to have the price of yesterday we can do:"
   ]
  },
  {
   "cell_type": "code",
   "execution_count": 7,
   "id": "90dd58fb",
   "metadata": {},
   "outputs": [
    {
     "data": {
      "text/html": [
       "<div>\n",
       "<style scoped>\n",
       "    .dataframe tbody tr th:only-of-type {\n",
       "        vertical-align: middle;\n",
       "    }\n",
       "\n",
       "    .dataframe tbody tr th {\n",
       "        vertical-align: top;\n",
       "    }\n",
       "\n",
       "    .dataframe thead th {\n",
       "        text-align: right;\n",
       "    }\n",
       "</style>\n",
       "<table border=\"1\" class=\"dataframe\">\n",
       "  <thead>\n",
       "    <tr style=\"text-align: right;\">\n",
       "      <th></th>\n",
       "      <th>AAPL</th>\n",
       "      <th>BA</th>\n",
       "      <th>DIS</th>\n",
       "      <th>IBM</th>\n",
       "      <th>KO</th>\n",
       "      <th>MSFT</th>\n",
       "    </tr>\n",
       "    <tr>\n",
       "      <th>Date</th>\n",
       "      <th></th>\n",
       "      <th></th>\n",
       "      <th></th>\n",
       "      <th></th>\n",
       "      <th></th>\n",
       "      <th></th>\n",
       "    </tr>\n",
       "  </thead>\n",
       "  <tbody>\n",
       "    <tr>\n",
       "      <th>2015-01-02</th>\n",
       "      <td>24.435270</td>\n",
       "      <td>113.657211</td>\n",
       "      <td>87.092400</td>\n",
       "      <td>103.354820</td>\n",
       "      <td>31.347847</td>\n",
       "      <td>40.378071</td>\n",
       "    </tr>\n",
       "    <tr>\n",
       "      <th>2015-01-05</th>\n",
       "      <td>23.746889</td>\n",
       "      <td>112.870064</td>\n",
       "      <td>85.819702</td>\n",
       "      <td>101.728539</td>\n",
       "      <td>31.347847</td>\n",
       "      <td>40.006760</td>\n",
       "    </tr>\n",
       "    <tr>\n",
       "      <th>2015-01-06</th>\n",
       "      <td>23.749121</td>\n",
       "      <td>111.540634</td>\n",
       "      <td>85.364502</td>\n",
       "      <td>99.534683</td>\n",
       "      <td>31.585876</td>\n",
       "      <td>39.419571</td>\n",
       "    </tr>\n",
       "  </tbody>\n",
       "</table>\n",
       "</div>"
      ],
      "text/plain": [
       "                 AAPL          BA        DIS         IBM         KO       MSFT\n",
       "Date                                                                          \n",
       "2015-01-02  24.435270  113.657211  87.092400  103.354820  31.347847  40.378071\n",
       "2015-01-05  23.746889  112.870064  85.819702  101.728539  31.347847  40.006760\n",
       "2015-01-06  23.749121  111.540634  85.364502   99.534683  31.585876  39.419571"
      ]
     },
     "execution_count": 7,
     "metadata": {},
     "output_type": "execute_result"
    }
   ],
   "source": [
    "# Look at the first 3 values\n",
    "stocks.head(3)"
   ]
  },
  {
   "cell_type": "code",
   "execution_count": 8,
   "id": "4f7494db",
   "metadata": {},
   "outputs": [
    {
     "data": {
      "text/html": [
       "<div>\n",
       "<style scoped>\n",
       "    .dataframe tbody tr th:only-of-type {\n",
       "        vertical-align: middle;\n",
       "    }\n",
       "\n",
       "    .dataframe tbody tr th {\n",
       "        vertical-align: top;\n",
       "    }\n",
       "\n",
       "    .dataframe thead th {\n",
       "        text-align: right;\n",
       "    }\n",
       "</style>\n",
       "<table border=\"1\" class=\"dataframe\">\n",
       "  <thead>\n",
       "    <tr style=\"text-align: right;\">\n",
       "      <th></th>\n",
       "      <th>AAPL</th>\n",
       "      <th>BA</th>\n",
       "      <th>DIS</th>\n",
       "      <th>IBM</th>\n",
       "      <th>KO</th>\n",
       "      <th>MSFT</th>\n",
       "    </tr>\n",
       "    <tr>\n",
       "      <th>Date</th>\n",
       "      <th></th>\n",
       "      <th></th>\n",
       "      <th></th>\n",
       "      <th></th>\n",
       "      <th></th>\n",
       "      <th></th>\n",
       "    </tr>\n",
       "  </thead>\n",
       "  <tbody>\n",
       "    <tr>\n",
       "      <th>2015-01-02</th>\n",
       "      <td>NaN</td>\n",
       "      <td>NaN</td>\n",
       "      <td>NaN</td>\n",
       "      <td>NaN</td>\n",
       "      <td>NaN</td>\n",
       "      <td>NaN</td>\n",
       "    </tr>\n",
       "    <tr>\n",
       "      <th>2015-01-05</th>\n",
       "      <td>24.435270</td>\n",
       "      <td>113.657211</td>\n",
       "      <td>87.092400</td>\n",
       "      <td>103.354820</td>\n",
       "      <td>31.347847</td>\n",
       "      <td>40.378071</td>\n",
       "    </tr>\n",
       "    <tr>\n",
       "      <th>2015-01-06</th>\n",
       "      <td>23.746889</td>\n",
       "      <td>112.870064</td>\n",
       "      <td>85.819702</td>\n",
       "      <td>101.728539</td>\n",
       "      <td>31.347847</td>\n",
       "      <td>40.006760</td>\n",
       "    </tr>\n",
       "  </tbody>\n",
       "</table>\n",
       "</div>"
      ],
      "text/plain": [
       "                 AAPL          BA        DIS         IBM         KO       MSFT\n",
       "Date                                                                          \n",
       "2015-01-02        NaN         NaN        NaN         NaN        NaN        NaN\n",
       "2015-01-05  24.435270  113.657211  87.092400  103.354820  31.347847  40.378071\n",
       "2015-01-06  23.746889  112.870064  85.819702  101.728539  31.347847  40.006760"
      ]
     },
     "execution_count": 8,
     "metadata": {},
     "output_type": "execute_result"
    }
   ],
   "source": [
    "# Now we shift the values\n",
    "stocks.shift(1).head(3)"
   ]
  },
  {
   "cell_type": "markdown",
   "id": "9a1e6021",
   "metadata": {},
   "source": [
    "We can see that with *shift(1)* the first row is now the second one, the second one the third one and so on. Doing so, for the new first row, we don't have any previous value and for this reason we have all Nan.\n",
    "\n",
    "We can introduce also the method *diff()* that compute the difference between two periods. If we want to compute the difference of the price at time $t$ and $t-1$ we simply need to write:"
   ]
  },
  {
   "cell_type": "code",
   "execution_count": 9,
   "id": "e40cd9af",
   "metadata": {},
   "outputs": [
    {
     "data": {
      "text/html": [
       "<div>\n",
       "<style scoped>\n",
       "    .dataframe tbody tr th:only-of-type {\n",
       "        vertical-align: middle;\n",
       "    }\n",
       "\n",
       "    .dataframe tbody tr th {\n",
       "        vertical-align: top;\n",
       "    }\n",
       "\n",
       "    .dataframe thead th {\n",
       "        text-align: right;\n",
       "    }\n",
       "</style>\n",
       "<table border=\"1\" class=\"dataframe\">\n",
       "  <thead>\n",
       "    <tr style=\"text-align: right;\">\n",
       "      <th></th>\n",
       "      <th>AAPL</th>\n",
       "      <th>BA</th>\n",
       "      <th>DIS</th>\n",
       "      <th>IBM</th>\n",
       "      <th>KO</th>\n",
       "      <th>MSFT</th>\n",
       "    </tr>\n",
       "    <tr>\n",
       "      <th>Date</th>\n",
       "      <th></th>\n",
       "      <th></th>\n",
       "      <th></th>\n",
       "      <th></th>\n",
       "      <th></th>\n",
       "      <th></th>\n",
       "    </tr>\n",
       "  </thead>\n",
       "  <tbody>\n",
       "    <tr>\n",
       "      <th>2015-01-02</th>\n",
       "      <td>NaN</td>\n",
       "      <td>NaN</td>\n",
       "      <td>NaN</td>\n",
       "      <td>NaN</td>\n",
       "      <td>NaN</td>\n",
       "      <td>NaN</td>\n",
       "    </tr>\n",
       "    <tr>\n",
       "      <th>2015-01-05</th>\n",
       "      <td>-0.688381</td>\n",
       "      <td>-0.787148</td>\n",
       "      <td>-1.272697</td>\n",
       "      <td>-1.626282</td>\n",
       "      <td>0.000000</td>\n",
       "      <td>-0.371311</td>\n",
       "    </tr>\n",
       "    <tr>\n",
       "      <th>2015-01-06</th>\n",
       "      <td>0.002232</td>\n",
       "      <td>-1.329430</td>\n",
       "      <td>-0.455200</td>\n",
       "      <td>-2.193855</td>\n",
       "      <td>0.238029</td>\n",
       "      <td>-0.587189</td>\n",
       "    </tr>\n",
       "    <tr>\n",
       "      <th>2015-01-07</th>\n",
       "      <td>0.333017</td>\n",
       "      <td>1.731750</td>\n",
       "      <td>0.873245</td>\n",
       "      <td>-0.650551</td>\n",
       "      <td>0.394281</td>\n",
       "      <td>0.500843</td>\n",
       "    </tr>\n",
       "    <tr>\n",
       "      <th>2015-01-08</th>\n",
       "      <td>0.925291</td>\n",
       "      <td>2.002899</td>\n",
       "      <td>0.891838</td>\n",
       "      <td>2.149246</td>\n",
       "      <td>0.386820</td>\n",
       "      <td>1.174381</td>\n",
       "    </tr>\n",
       "    <tr>\n",
       "      <th>...</th>\n",
       "      <td>...</td>\n",
       "      <td>...</td>\n",
       "      <td>...</td>\n",
       "      <td>...</td>\n",
       "      <td>...</td>\n",
       "      <td>...</td>\n",
       "    </tr>\n",
       "    <tr>\n",
       "      <th>2024-04-04</th>\n",
       "      <td>-0.829987</td>\n",
       "      <td>-1.630005</td>\n",
       "      <td>-1.890007</td>\n",
       "      <td>-2.959991</td>\n",
       "      <td>-0.530003</td>\n",
       "      <td>-2.570007</td>\n",
       "    </tr>\n",
       "    <tr>\n",
       "      <th>2024-04-05</th>\n",
       "      <td>0.759995</td>\n",
       "      <td>-0.149994</td>\n",
       "      <td>1.290001</td>\n",
       "      <td>1.199997</td>\n",
       "      <td>0.209999</td>\n",
       "      <td>7.639984</td>\n",
       "    </tr>\n",
       "    <tr>\n",
       "      <th>2024-04-08</th>\n",
       "      <td>-1.130005</td>\n",
       "      <td>-1.580002</td>\n",
       "      <td>-1.029999</td>\n",
       "      <td>0.680008</td>\n",
       "      <td>-0.239998</td>\n",
       "      <td>-0.929993</td>\n",
       "    </tr>\n",
       "    <tr>\n",
       "      <th>2024-04-09</th>\n",
       "      <td>1.220001</td>\n",
       "      <td>-3.440002</td>\n",
       "      <td>0.620003</td>\n",
       "      <td>-0.510010</td>\n",
       "      <td>0.450001</td>\n",
       "      <td>1.690002</td>\n",
       "    </tr>\n",
       "    <tr>\n",
       "      <th>2024-04-10</th>\n",
       "      <td>-1.380005</td>\n",
       "      <td>-2.459991</td>\n",
       "      <td>-0.595001</td>\n",
       "      <td>-1.705002</td>\n",
       "      <td>-0.680000</td>\n",
       "      <td>-4.899994</td>\n",
       "    </tr>\n",
       "  </tbody>\n",
       "</table>\n",
       "<p>2333 rows × 6 columns</p>\n",
       "</div>"
      ],
      "text/plain": [
       "                AAPL        BA       DIS       IBM        KO      MSFT\n",
       "Date                                                                  \n",
       "2015-01-02       NaN       NaN       NaN       NaN       NaN       NaN\n",
       "2015-01-05 -0.688381 -0.787148 -1.272697 -1.626282  0.000000 -0.371311\n",
       "2015-01-06  0.002232 -1.329430 -0.455200 -2.193855  0.238029 -0.587189\n",
       "2015-01-07  0.333017  1.731750  0.873245 -0.650551  0.394281  0.500843\n",
       "2015-01-08  0.925291  2.002899  0.891838  2.149246  0.386820  1.174381\n",
       "...              ...       ...       ...       ...       ...       ...\n",
       "2024-04-04 -0.829987 -1.630005 -1.890007 -2.959991 -0.530003 -2.570007\n",
       "2024-04-05  0.759995 -0.149994  1.290001  1.199997  0.209999  7.639984\n",
       "2024-04-08 -1.130005 -1.580002 -1.029999  0.680008 -0.239998 -0.929993\n",
       "2024-04-09  1.220001 -3.440002  0.620003 -0.510010  0.450001  1.690002\n",
       "2024-04-10 -1.380005 -2.459991 -0.595001 -1.705002 -0.680000 -4.899994\n",
       "\n",
       "[2333 rows x 6 columns]"
      ]
     },
     "execution_count": 9,
     "metadata": {},
     "output_type": "execute_result"
    }
   ],
   "source": [
    "stocks.diff(periods=1)"
   ]
  },
  {
   "cell_type": "markdown",
   "id": "b512f044",
   "metadata": {},
   "source": [
    "Now that we know how to compute the differece of prices and how to get the price of the previous day, we can compute the simple return as:"
   ]
  },
  {
   "cell_type": "code",
   "execution_count": 10,
   "id": "59d605d0",
   "metadata": {},
   "outputs": [
    {
     "data": {
      "text/html": [
       "<div>\n",
       "<style scoped>\n",
       "    .dataframe tbody tr th:only-of-type {\n",
       "        vertical-align: middle;\n",
       "    }\n",
       "\n",
       "    .dataframe tbody tr th {\n",
       "        vertical-align: top;\n",
       "    }\n",
       "\n",
       "    .dataframe thead th {\n",
       "        text-align: right;\n",
       "    }\n",
       "</style>\n",
       "<table border=\"1\" class=\"dataframe\">\n",
       "  <thead>\n",
       "    <tr style=\"text-align: right;\">\n",
       "      <th></th>\n",
       "      <th>AAPL</th>\n",
       "      <th>BA</th>\n",
       "      <th>DIS</th>\n",
       "      <th>IBM</th>\n",
       "      <th>KO</th>\n",
       "      <th>MSFT</th>\n",
       "    </tr>\n",
       "    <tr>\n",
       "      <th>Date</th>\n",
       "      <th></th>\n",
       "      <th></th>\n",
       "      <th></th>\n",
       "      <th></th>\n",
       "      <th></th>\n",
       "      <th></th>\n",
       "    </tr>\n",
       "  </thead>\n",
       "  <tbody>\n",
       "    <tr>\n",
       "      <th>2015-01-02</th>\n",
       "      <td>NaN</td>\n",
       "      <td>NaN</td>\n",
       "      <td>NaN</td>\n",
       "      <td>NaN</td>\n",
       "      <td>NaN</td>\n",
       "      <td>NaN</td>\n",
       "    </tr>\n",
       "    <tr>\n",
       "      <th>2015-01-05</th>\n",
       "      <td>-0.028172</td>\n",
       "      <td>-0.006926</td>\n",
       "      <td>-0.014613</td>\n",
       "      <td>-0.015735</td>\n",
       "      <td>0.000000</td>\n",
       "      <td>-0.009196</td>\n",
       "    </tr>\n",
       "    <tr>\n",
       "      <th>2015-01-06</th>\n",
       "      <td>0.000094</td>\n",
       "      <td>-0.011778</td>\n",
       "      <td>-0.005304</td>\n",
       "      <td>-0.021566</td>\n",
       "      <td>0.007593</td>\n",
       "      <td>-0.014677</td>\n",
       "    </tr>\n",
       "    <tr>\n",
       "      <th>2015-01-07</th>\n",
       "      <td>0.014022</td>\n",
       "      <td>0.015526</td>\n",
       "      <td>0.010230</td>\n",
       "      <td>-0.006536</td>\n",
       "      <td>0.012483</td>\n",
       "      <td>0.012705</td>\n",
       "    </tr>\n",
       "    <tr>\n",
       "      <th>2015-01-08</th>\n",
       "      <td>0.038422</td>\n",
       "      <td>0.017682</td>\n",
       "      <td>0.010342</td>\n",
       "      <td>0.021735</td>\n",
       "      <td>0.012096</td>\n",
       "      <td>0.029418</td>\n",
       "    </tr>\n",
       "  </tbody>\n",
       "</table>\n",
       "</div>"
      ],
      "text/plain": [
       "                AAPL        BA       DIS       IBM        KO      MSFT\n",
       "Date                                                                  \n",
       "2015-01-02       NaN       NaN       NaN       NaN       NaN       NaN\n",
       "2015-01-05 -0.028172 -0.006926 -0.014613 -0.015735  0.000000 -0.009196\n",
       "2015-01-06  0.000094 -0.011778 -0.005304 -0.021566  0.007593 -0.014677\n",
       "2015-01-07  0.014022  0.015526  0.010230 -0.006536  0.012483  0.012705\n",
       "2015-01-08  0.038422  0.017682  0.010342  0.021735  0.012096  0.029418"
      ]
     },
     "execution_count": 10,
     "metadata": {},
     "output_type": "execute_result"
    }
   ],
   "source": [
    "SR = stocks.diff(periods=1)/stocks.shift(1)\n",
    "SR.head(5)"
   ]
  },
  {
   "cell_type": "markdown",
   "id": "cff236f3",
   "metadata": {},
   "source": [
    "That is the same as writing:"
   ]
  },
  {
   "cell_type": "code",
   "execution_count": 11,
   "id": "e510704f",
   "metadata": {},
   "outputs": [
    {
     "data": {
      "text/html": [
       "<div>\n",
       "<style scoped>\n",
       "    .dataframe tbody tr th:only-of-type {\n",
       "        vertical-align: middle;\n",
       "    }\n",
       "\n",
       "    .dataframe tbody tr th {\n",
       "        vertical-align: top;\n",
       "    }\n",
       "\n",
       "    .dataframe thead th {\n",
       "        text-align: right;\n",
       "    }\n",
       "</style>\n",
       "<table border=\"1\" class=\"dataframe\">\n",
       "  <thead>\n",
       "    <tr style=\"text-align: right;\">\n",
       "      <th></th>\n",
       "      <th>AAPL</th>\n",
       "      <th>BA</th>\n",
       "      <th>DIS</th>\n",
       "      <th>IBM</th>\n",
       "      <th>KO</th>\n",
       "      <th>MSFT</th>\n",
       "    </tr>\n",
       "    <tr>\n",
       "      <th>Date</th>\n",
       "      <th></th>\n",
       "      <th></th>\n",
       "      <th></th>\n",
       "      <th></th>\n",
       "      <th></th>\n",
       "      <th></th>\n",
       "    </tr>\n",
       "  </thead>\n",
       "  <tbody>\n",
       "    <tr>\n",
       "      <th>2015-01-02</th>\n",
       "      <td>NaN</td>\n",
       "      <td>NaN</td>\n",
       "      <td>NaN</td>\n",
       "      <td>NaN</td>\n",
       "      <td>NaN</td>\n",
       "      <td>NaN</td>\n",
       "    </tr>\n",
       "    <tr>\n",
       "      <th>2015-01-05</th>\n",
       "      <td>-0.028172</td>\n",
       "      <td>-0.006926</td>\n",
       "      <td>-0.014613</td>\n",
       "      <td>-0.015735</td>\n",
       "      <td>0.000000</td>\n",
       "      <td>-0.009196</td>\n",
       "    </tr>\n",
       "    <tr>\n",
       "      <th>2015-01-06</th>\n",
       "      <td>0.000094</td>\n",
       "      <td>-0.011778</td>\n",
       "      <td>-0.005304</td>\n",
       "      <td>-0.021566</td>\n",
       "      <td>0.007593</td>\n",
       "      <td>-0.014677</td>\n",
       "    </tr>\n",
       "    <tr>\n",
       "      <th>2015-01-07</th>\n",
       "      <td>0.014022</td>\n",
       "      <td>0.015526</td>\n",
       "      <td>0.010230</td>\n",
       "      <td>-0.006536</td>\n",
       "      <td>0.012483</td>\n",
       "      <td>0.012705</td>\n",
       "    </tr>\n",
       "    <tr>\n",
       "      <th>2015-01-08</th>\n",
       "      <td>0.038422</td>\n",
       "      <td>0.017682</td>\n",
       "      <td>0.010342</td>\n",
       "      <td>0.021735</td>\n",
       "      <td>0.012096</td>\n",
       "      <td>0.029418</td>\n",
       "    </tr>\n",
       "  </tbody>\n",
       "</table>\n",
       "</div>"
      ],
      "text/plain": [
       "                AAPL        BA       DIS       IBM        KO      MSFT\n",
       "Date                                                                  \n",
       "2015-01-02       NaN       NaN       NaN       NaN       NaN       NaN\n",
       "2015-01-05 -0.028172 -0.006926 -0.014613 -0.015735  0.000000 -0.009196\n",
       "2015-01-06  0.000094 -0.011778 -0.005304 -0.021566  0.007593 -0.014677\n",
       "2015-01-07  0.014022  0.015526  0.010230 -0.006536  0.012483  0.012705\n",
       "2015-01-08  0.038422  0.017682  0.010342  0.021735  0.012096  0.029418"
      ]
     },
     "execution_count": 11,
     "metadata": {},
     "output_type": "execute_result"
    }
   ],
   "source": [
    "SR = (stocks-stocks.shift(1))/stocks.shift(1)\n",
    "SR.head(5)"
   ]
  },
  {
   "cell_type": "markdown",
   "id": "fb2d7d17",
   "metadata": {},
   "source": [
    "There is a third way, that is using a method that compute the percentage of price change between periods:"
   ]
  },
  {
   "cell_type": "code",
   "execution_count": 12,
   "id": "ebff8498",
   "metadata": {},
   "outputs": [
    {
     "data": {
      "text/html": [
       "<div>\n",
       "<style scoped>\n",
       "    .dataframe tbody tr th:only-of-type {\n",
       "        vertical-align: middle;\n",
       "    }\n",
       "\n",
       "    .dataframe tbody tr th {\n",
       "        vertical-align: top;\n",
       "    }\n",
       "\n",
       "    .dataframe thead th {\n",
       "        text-align: right;\n",
       "    }\n",
       "</style>\n",
       "<table border=\"1\" class=\"dataframe\">\n",
       "  <thead>\n",
       "    <tr style=\"text-align: right;\">\n",
       "      <th></th>\n",
       "      <th>AAPL</th>\n",
       "      <th>BA</th>\n",
       "      <th>DIS</th>\n",
       "      <th>IBM</th>\n",
       "      <th>KO</th>\n",
       "      <th>MSFT</th>\n",
       "    </tr>\n",
       "    <tr>\n",
       "      <th>Date</th>\n",
       "      <th></th>\n",
       "      <th></th>\n",
       "      <th></th>\n",
       "      <th></th>\n",
       "      <th></th>\n",
       "      <th></th>\n",
       "    </tr>\n",
       "  </thead>\n",
       "  <tbody>\n",
       "    <tr>\n",
       "      <th>2015-01-02</th>\n",
       "      <td>NaN</td>\n",
       "      <td>NaN</td>\n",
       "      <td>NaN</td>\n",
       "      <td>NaN</td>\n",
       "      <td>NaN</td>\n",
       "      <td>NaN</td>\n",
       "    </tr>\n",
       "    <tr>\n",
       "      <th>2015-01-05</th>\n",
       "      <td>-0.028172</td>\n",
       "      <td>-0.006926</td>\n",
       "      <td>-0.014613</td>\n",
       "      <td>-0.015735</td>\n",
       "      <td>0.000000</td>\n",
       "      <td>-0.009196</td>\n",
       "    </tr>\n",
       "    <tr>\n",
       "      <th>2015-01-06</th>\n",
       "      <td>0.000094</td>\n",
       "      <td>-0.011778</td>\n",
       "      <td>-0.005304</td>\n",
       "      <td>-0.021566</td>\n",
       "      <td>0.007593</td>\n",
       "      <td>-0.014677</td>\n",
       "    </tr>\n",
       "    <tr>\n",
       "      <th>2015-01-07</th>\n",
       "      <td>0.014022</td>\n",
       "      <td>0.015526</td>\n",
       "      <td>0.010230</td>\n",
       "      <td>-0.006536</td>\n",
       "      <td>0.012483</td>\n",
       "      <td>0.012705</td>\n",
       "    </tr>\n",
       "    <tr>\n",
       "      <th>2015-01-08</th>\n",
       "      <td>0.038422</td>\n",
       "      <td>0.017682</td>\n",
       "      <td>0.010342</td>\n",
       "      <td>0.021735</td>\n",
       "      <td>0.012096</td>\n",
       "      <td>0.029418</td>\n",
       "    </tr>\n",
       "  </tbody>\n",
       "</table>\n",
       "</div>"
      ],
      "text/plain": [
       "                AAPL        BA       DIS       IBM        KO      MSFT\n",
       "Date                                                                  \n",
       "2015-01-02       NaN       NaN       NaN       NaN       NaN       NaN\n",
       "2015-01-05 -0.028172 -0.006926 -0.014613 -0.015735  0.000000 -0.009196\n",
       "2015-01-06  0.000094 -0.011778 -0.005304 -0.021566  0.007593 -0.014677\n",
       "2015-01-07  0.014022  0.015526  0.010230 -0.006536  0.012483  0.012705\n",
       "2015-01-08  0.038422  0.017682  0.010342  0.021735  0.012096  0.029418"
      ]
     },
     "execution_count": 12,
     "metadata": {},
     "output_type": "execute_result"
    }
   ],
   "source": [
    "SR = stocks.pct_change(periods=1)\n",
    "SR.head(5)"
   ]
  },
  {
   "cell_type": "markdown",
   "id": "dc602986",
   "metadata": {},
   "source": [
    "The value we see is the daily change of prices value. If we want to see the montly variation, we can resample the last value of each month and then apply the same formula as before:"
   ]
  },
  {
   "cell_type": "code",
   "execution_count": 13,
   "id": "b8fc5150",
   "metadata": {},
   "outputs": [
    {
     "data": {
      "text/html": [
       "<div>\n",
       "<style scoped>\n",
       "    .dataframe tbody tr th:only-of-type {\n",
       "        vertical-align: middle;\n",
       "    }\n",
       "\n",
       "    .dataframe tbody tr th {\n",
       "        vertical-align: top;\n",
       "    }\n",
       "\n",
       "    .dataframe thead th {\n",
       "        text-align: right;\n",
       "    }\n",
       "</style>\n",
       "<table border=\"1\" class=\"dataframe\">\n",
       "  <thead>\n",
       "    <tr style=\"text-align: right;\">\n",
       "      <th></th>\n",
       "      <th>AAPL</th>\n",
       "      <th>BA</th>\n",
       "      <th>DIS</th>\n",
       "      <th>IBM</th>\n",
       "      <th>KO</th>\n",
       "      <th>MSFT</th>\n",
       "    </tr>\n",
       "    <tr>\n",
       "      <th>Date</th>\n",
       "      <th></th>\n",
       "      <th></th>\n",
       "      <th></th>\n",
       "      <th></th>\n",
       "      <th></th>\n",
       "      <th></th>\n",
       "    </tr>\n",
       "  </thead>\n",
       "  <tbody>\n",
       "    <tr>\n",
       "      <th>2015-01-30</th>\n",
       "      <td>NaN</td>\n",
       "      <td>NaN</td>\n",
       "      <td>NaN</td>\n",
       "      <td>NaN</td>\n",
       "      <td>NaN</td>\n",
       "      <td>NaN</td>\n",
       "    </tr>\n",
       "    <tr>\n",
       "      <th>2015-02-27</th>\n",
       "      <td>0.100777</td>\n",
       "      <td>0.044115</td>\n",
       "      <td>0.144239</td>\n",
       "      <td>0.063701</td>\n",
       "      <td>0.051736</td>\n",
       "      <td>0.093120</td>\n",
       "    </tr>\n",
       "    <tr>\n",
       "      <th>2015-03-31</th>\n",
       "      <td>-0.031372</td>\n",
       "      <td>-0.005105</td>\n",
       "      <td>0.007782</td>\n",
       "      <td>-0.008892</td>\n",
       "      <td>-0.055739</td>\n",
       "      <td>-0.072748</td>\n",
       "    </tr>\n",
       "    <tr>\n",
       "      <th>2015-04-30</th>\n",
       "      <td>0.005786</td>\n",
       "      <td>-0.044909</td>\n",
       "      <td>0.036514</td>\n",
       "      <td>0.067227</td>\n",
       "      <td>0.000247</td>\n",
       "      <td>0.196262</td>\n",
       "    </tr>\n",
       "    <tr>\n",
       "      <th>2015-05-29</th>\n",
       "      <td>0.045339</td>\n",
       "      <td>-0.013391</td>\n",
       "      <td>0.015177</td>\n",
       "      <td>-0.002078</td>\n",
       "      <td>0.009862</td>\n",
       "      <td>-0.030334</td>\n",
       "    </tr>\n",
       "  </tbody>\n",
       "</table>\n",
       "</div>"
      ],
      "text/plain": [
       "                AAPL        BA       DIS       IBM        KO      MSFT\n",
       "Date                                                                  \n",
       "2015-01-30       NaN       NaN       NaN       NaN       NaN       NaN\n",
       "2015-02-27  0.100777  0.044115  0.144239  0.063701  0.051736  0.093120\n",
       "2015-03-31 -0.031372 -0.005105  0.007782 -0.008892 -0.055739 -0.072748\n",
       "2015-04-30  0.005786 -0.044909  0.036514  0.067227  0.000247  0.196262\n",
       "2015-05-29  0.045339 -0.013391  0.015177 -0.002078  0.009862 -0.030334"
      ]
     },
     "execution_count": 13,
     "metadata": {},
     "output_type": "execute_result"
    }
   ],
   "source": [
    "stocks.resample('BM').last().pct_change(periods=1).head(5)"
   ]
  },
  {
   "cell_type": "markdown",
   "id": "1e538e5e",
   "metadata": {},
   "source": [
    "And we can to the same with the annual returns:"
   ]
  },
  {
   "cell_type": "code",
   "execution_count": 14,
   "id": "101e9b1a",
   "metadata": {},
   "outputs": [
    {
     "data": {
      "text/html": [
       "<div>\n",
       "<style scoped>\n",
       "    .dataframe tbody tr th:only-of-type {\n",
       "        vertical-align: middle;\n",
       "    }\n",
       "\n",
       "    .dataframe tbody tr th {\n",
       "        vertical-align: top;\n",
       "    }\n",
       "\n",
       "    .dataframe thead th {\n",
       "        text-align: right;\n",
       "    }\n",
       "</style>\n",
       "<table border=\"1\" class=\"dataframe\">\n",
       "  <thead>\n",
       "    <tr style=\"text-align: right;\">\n",
       "      <th></th>\n",
       "      <th>AAPL</th>\n",
       "      <th>BA</th>\n",
       "      <th>DIS</th>\n",
       "      <th>IBM</th>\n",
       "      <th>KO</th>\n",
       "      <th>MSFT</th>\n",
       "    </tr>\n",
       "    <tr>\n",
       "      <th>Date</th>\n",
       "      <th></th>\n",
       "      <th></th>\n",
       "      <th></th>\n",
       "      <th></th>\n",
       "      <th></th>\n",
       "      <th></th>\n",
       "    </tr>\n",
       "  </thead>\n",
       "  <tbody>\n",
       "    <tr>\n",
       "      <th>2015-12-31</th>\n",
       "      <td>NaN</td>\n",
       "      <td>NaN</td>\n",
       "      <td>NaN</td>\n",
       "      <td>NaN</td>\n",
       "      <td>NaN</td>\n",
       "      <td>NaN</td>\n",
       "    </tr>\n",
       "    <tr>\n",
       "      <th>2016-12-31</th>\n",
       "      <td>0.124804</td>\n",
       "      <td>0.113088</td>\n",
       "      <td>0.006719</td>\n",
       "      <td>0.252109</td>\n",
       "      <td>-0.003571</td>\n",
       "      <td>0.150777</td>\n",
       "    </tr>\n",
       "    <tr>\n",
       "      <th>2017-12-31</th>\n",
       "      <td>0.484643</td>\n",
       "      <td>0.947151</td>\n",
       "      <td>0.047602</td>\n",
       "      <td>-0.039878</td>\n",
       "      <td>0.143821</td>\n",
       "      <td>0.407306</td>\n",
       "    </tr>\n",
       "    <tr>\n",
       "      <th>2018-12-31</th>\n",
       "      <td>-0.053902</td>\n",
       "      <td>0.115016</td>\n",
       "      <td>0.036078</td>\n",
       "      <td>-0.225580</td>\n",
       "      <td>0.067735</td>\n",
       "      <td>0.207953</td>\n",
       "    </tr>\n",
       "    <tr>\n",
       "      <th>2019-12-31</th>\n",
       "      <td>0.889578</td>\n",
       "      <td>0.033382</td>\n",
       "      <td>0.335135</td>\n",
       "      <td>0.235761</td>\n",
       "      <td>0.205994</td>\n",
       "      <td>0.575580</td>\n",
       "    </tr>\n",
       "    <tr>\n",
       "      <th>2020-12-31</th>\n",
       "      <td>0.823068</td>\n",
       "      <td>-0.338981</td>\n",
       "      <td>0.252714</td>\n",
       "      <td>-0.011626</td>\n",
       "      <td>0.024691</td>\n",
       "      <td>0.425341</td>\n",
       "    </tr>\n",
       "    <tr>\n",
       "      <th>2021-12-31</th>\n",
       "      <td>0.346482</td>\n",
       "      <td>-0.059516</td>\n",
       "      <td>-0.145104</td>\n",
       "      <td>0.166528</td>\n",
       "      <td>0.113725</td>\n",
       "      <td>0.524769</td>\n",
       "    </tr>\n",
       "    <tr>\n",
       "      <th>2022-12-31</th>\n",
       "      <td>-0.264042</td>\n",
       "      <td>-0.053795</td>\n",
       "      <td>-0.439086</td>\n",
       "      <td>0.106370</td>\n",
       "      <td>0.106096</td>\n",
       "      <td>-0.280248</td>\n",
       "    </tr>\n",
       "    <tr>\n",
       "      <th>2023-12-31</th>\n",
       "      <td>0.490081</td>\n",
       "      <td>0.368366</td>\n",
       "      <td>0.042637</td>\n",
       "      <td>0.218488</td>\n",
       "      <td>-0.044345</td>\n",
       "      <td>0.581913</td>\n",
       "    </tr>\n",
       "    <tr>\n",
       "      <th>2024-12-31</th>\n",
       "      <td>-0.124787</td>\n",
       "      <td>-0.326095</td>\n",
       "      <td>0.299978</td>\n",
       "      <td>0.157538</td>\n",
       "      <td>0.009880</td>\n",
       "      <td>0.122645</td>\n",
       "    </tr>\n",
       "  </tbody>\n",
       "</table>\n",
       "</div>"
      ],
      "text/plain": [
       "                AAPL        BA       DIS       IBM        KO      MSFT\n",
       "Date                                                                  \n",
       "2015-12-31       NaN       NaN       NaN       NaN       NaN       NaN\n",
       "2016-12-31  0.124804  0.113088  0.006719  0.252109 -0.003571  0.150777\n",
       "2017-12-31  0.484643  0.947151  0.047602 -0.039878  0.143821  0.407306\n",
       "2018-12-31 -0.053902  0.115016  0.036078 -0.225580  0.067735  0.207953\n",
       "2019-12-31  0.889578  0.033382  0.335135  0.235761  0.205994  0.575580\n",
       "2020-12-31  0.823068 -0.338981  0.252714 -0.011626  0.024691  0.425341\n",
       "2021-12-31  0.346482 -0.059516 -0.145104  0.166528  0.113725  0.524769\n",
       "2022-12-31 -0.264042 -0.053795 -0.439086  0.106370  0.106096 -0.280248\n",
       "2023-12-31  0.490081  0.368366  0.042637  0.218488 -0.044345  0.581913\n",
       "2024-12-31 -0.124787 -0.326095  0.299978  0.157538  0.009880  0.122645"
      ]
     },
     "execution_count": 14,
     "metadata": {},
     "output_type": "execute_result"
    }
   ],
   "source": [
    "stocks.resample('Y').last().pct_change(periods=1)"
   ]
  },
  {
   "cell_type": "markdown",
   "id": "7468911b",
   "metadata": {},
   "source": [
    "### Log Returns\n",
    "The logaritmic returns are defined as:\n",
    "\n",
    "$ LR = log(\\frac{PRICE_t}{PRICE_{t-1}})$\n",
    "\n",
    "that is:\n",
    "\n",
    "$ LR = log(PRICE_t)-log(PRICE_{t-1})$"
   ]
  },
  {
   "cell_type": "code",
   "execution_count": 15,
   "id": "8b5a597c",
   "metadata": {},
   "outputs": [
    {
     "data": {
      "text/html": [
       "<div>\n",
       "<style scoped>\n",
       "    .dataframe tbody tr th:only-of-type {\n",
       "        vertical-align: middle;\n",
       "    }\n",
       "\n",
       "    .dataframe tbody tr th {\n",
       "        vertical-align: top;\n",
       "    }\n",
       "\n",
       "    .dataframe thead th {\n",
       "        text-align: right;\n",
       "    }\n",
       "</style>\n",
       "<table border=\"1\" class=\"dataframe\">\n",
       "  <thead>\n",
       "    <tr style=\"text-align: right;\">\n",
       "      <th></th>\n",
       "      <th>AAPL</th>\n",
       "      <th>BA</th>\n",
       "      <th>DIS</th>\n",
       "      <th>IBM</th>\n",
       "      <th>KO</th>\n",
       "      <th>MSFT</th>\n",
       "    </tr>\n",
       "    <tr>\n",
       "      <th>Date</th>\n",
       "      <th></th>\n",
       "      <th></th>\n",
       "      <th></th>\n",
       "      <th></th>\n",
       "      <th></th>\n",
       "      <th></th>\n",
       "    </tr>\n",
       "  </thead>\n",
       "  <tbody>\n",
       "    <tr>\n",
       "      <th>2015-01-02</th>\n",
       "      <td>NaN</td>\n",
       "      <td>NaN</td>\n",
       "      <td>NaN</td>\n",
       "      <td>NaN</td>\n",
       "      <td>NaN</td>\n",
       "      <td>NaN</td>\n",
       "    </tr>\n",
       "    <tr>\n",
       "      <th>2015-01-05</th>\n",
       "      <td>-0.028576</td>\n",
       "      <td>-0.006950</td>\n",
       "      <td>-0.014721</td>\n",
       "      <td>-0.015860</td>\n",
       "      <td>0.000000</td>\n",
       "      <td>-0.009238</td>\n",
       "    </tr>\n",
       "    <tr>\n",
       "      <th>2015-01-06</th>\n",
       "      <td>0.000094</td>\n",
       "      <td>-0.011848</td>\n",
       "      <td>-0.005318</td>\n",
       "      <td>-0.021802</td>\n",
       "      <td>0.007564</td>\n",
       "      <td>-0.014786</td>\n",
       "    </tr>\n",
       "    <tr>\n",
       "      <th>2015-01-07</th>\n",
       "      <td>0.013925</td>\n",
       "      <td>0.015406</td>\n",
       "      <td>0.010178</td>\n",
       "      <td>-0.006557</td>\n",
       "      <td>0.012406</td>\n",
       "      <td>0.012625</td>\n",
       "    </tr>\n",
       "    <tr>\n",
       "      <th>2015-01-08</th>\n",
       "      <td>0.037703</td>\n",
       "      <td>0.017528</td>\n",
       "      <td>0.010289</td>\n",
       "      <td>0.021502</td>\n",
       "      <td>0.012023</td>\n",
       "      <td>0.028994</td>\n",
       "    </tr>\n",
       "    <tr>\n",
       "      <th>...</th>\n",
       "      <td>...</td>\n",
       "      <td>...</td>\n",
       "      <td>...</td>\n",
       "      <td>...</td>\n",
       "      <td>...</td>\n",
       "      <td>...</td>\n",
       "    </tr>\n",
       "    <tr>\n",
       "      <th>2024-04-04</th>\n",
       "      <td>-0.004904</td>\n",
       "      <td>-0.008854</td>\n",
       "      <td>-0.016013</td>\n",
       "      <td>-0.015627</td>\n",
       "      <td>-0.008898</td>\n",
       "      <td>-0.006131</td>\n",
       "    </tr>\n",
       "    <tr>\n",
       "      <th>2024-04-05</th>\n",
       "      <td>0.004492</td>\n",
       "      <td>-0.000819</td>\n",
       "      <td>0.010957</td>\n",
       "      <td>0.006365</td>\n",
       "      <td>0.003535</td>\n",
       "      <td>0.018118</td>\n",
       "    </tr>\n",
       "    <tr>\n",
       "      <th>2024-04-08</th>\n",
       "      <td>-0.006686</td>\n",
       "      <td>-0.008665</td>\n",
       "      <td>-0.008739</td>\n",
       "      <td>0.003589</td>\n",
       "      <td>-0.004041</td>\n",
       "      <td>-0.002188</td>\n",
       "    </tr>\n",
       "    <tr>\n",
       "      <th>2024-04-09</th>\n",
       "      <td>0.007216</td>\n",
       "      <td>-0.019129</td>\n",
       "      <td>0.005269</td>\n",
       "      <td>-0.002690</td>\n",
       "      <td>0.007564</td>\n",
       "      <td>0.003972</td>\n",
       "    </tr>\n",
       "    <tr>\n",
       "      <th>2024-04-10</th>\n",
       "      <td>-0.008167</td>\n",
       "      <td>-0.013907</td>\n",
       "      <td>-0.005056</td>\n",
       "      <td>-0.009047</td>\n",
       "      <td>-0.011452</td>\n",
       "      <td>-0.011561</td>\n",
       "    </tr>\n",
       "  </tbody>\n",
       "</table>\n",
       "<p>2333 rows × 6 columns</p>\n",
       "</div>"
      ],
      "text/plain": [
       "                AAPL        BA       DIS       IBM        KO      MSFT\n",
       "Date                                                                  \n",
       "2015-01-02       NaN       NaN       NaN       NaN       NaN       NaN\n",
       "2015-01-05 -0.028576 -0.006950 -0.014721 -0.015860  0.000000 -0.009238\n",
       "2015-01-06  0.000094 -0.011848 -0.005318 -0.021802  0.007564 -0.014786\n",
       "2015-01-07  0.013925  0.015406  0.010178 -0.006557  0.012406  0.012625\n",
       "2015-01-08  0.037703  0.017528  0.010289  0.021502  0.012023  0.028994\n",
       "...              ...       ...       ...       ...       ...       ...\n",
       "2024-04-04 -0.004904 -0.008854 -0.016013 -0.015627 -0.008898 -0.006131\n",
       "2024-04-05  0.004492 -0.000819  0.010957  0.006365  0.003535  0.018118\n",
       "2024-04-08 -0.006686 -0.008665 -0.008739  0.003589 -0.004041 -0.002188\n",
       "2024-04-09  0.007216 -0.019129  0.005269 -0.002690  0.007564  0.003972\n",
       "2024-04-10 -0.008167 -0.013907 -0.005056 -0.009047 -0.011452 -0.011561\n",
       "\n",
       "[2333 rows x 6 columns]"
      ]
     },
     "execution_count": 15,
     "metadata": {},
     "output_type": "execute_result"
    }
   ],
   "source": [
    "np.log(stocks) - np.log(stocks.shift(1))"
   ]
  },
  {
   "cell_type": "markdown",
   "id": "80ff079d",
   "metadata": {},
   "source": [
    "We can notice that for small variation of price (with daily returns) the SR and LR are not very different. But if we look at the annual returns where the price variation is greater, there is a noticeable difference between SR and LR:"
   ]
  },
  {
   "cell_type": "code",
   "execution_count": 16,
   "id": "5434becf",
   "metadata": {},
   "outputs": [
    {
     "data": {
      "text/html": [
       "<div>\n",
       "<style scoped>\n",
       "    .dataframe tbody tr th:only-of-type {\n",
       "        vertical-align: middle;\n",
       "    }\n",
       "\n",
       "    .dataframe tbody tr th {\n",
       "        vertical-align: top;\n",
       "    }\n",
       "\n",
       "    .dataframe thead th {\n",
       "        text-align: right;\n",
       "    }\n",
       "</style>\n",
       "<table border=\"1\" class=\"dataframe\">\n",
       "  <thead>\n",
       "    <tr style=\"text-align: right;\">\n",
       "      <th></th>\n",
       "      <th>AAPL</th>\n",
       "      <th>BA</th>\n",
       "      <th>DIS</th>\n",
       "      <th>IBM</th>\n",
       "      <th>KO</th>\n",
       "      <th>MSFT</th>\n",
       "    </tr>\n",
       "    <tr>\n",
       "      <th>Date</th>\n",
       "      <th></th>\n",
       "      <th></th>\n",
       "      <th></th>\n",
       "      <th></th>\n",
       "      <th></th>\n",
       "      <th></th>\n",
       "    </tr>\n",
       "  </thead>\n",
       "  <tbody>\n",
       "    <tr>\n",
       "      <th>2015-12-31</th>\n",
       "      <td>NaN</td>\n",
       "      <td>NaN</td>\n",
       "      <td>NaN</td>\n",
       "      <td>NaN</td>\n",
       "      <td>NaN</td>\n",
       "      <td>NaN</td>\n",
       "    </tr>\n",
       "    <tr>\n",
       "      <th>2016-12-31</th>\n",
       "      <td>0.117609</td>\n",
       "      <td>0.107138</td>\n",
       "      <td>0.006697</td>\n",
       "      <td>0.224829</td>\n",
       "      <td>-0.003577</td>\n",
       "      <td>0.140438</td>\n",
       "    </tr>\n",
       "    <tr>\n",
       "      <th>2017-12-31</th>\n",
       "      <td>0.395174</td>\n",
       "      <td>0.666367</td>\n",
       "      <td>0.046504</td>\n",
       "      <td>-0.040695</td>\n",
       "      <td>0.134374</td>\n",
       "      <td>0.341678</td>\n",
       "    </tr>\n",
       "    <tr>\n",
       "      <th>2018-12-31</th>\n",
       "      <td>-0.055409</td>\n",
       "      <td>0.108869</td>\n",
       "      <td>0.035443</td>\n",
       "      <td>-0.255641</td>\n",
       "      <td>0.065539</td>\n",
       "      <td>0.188927</td>\n",
       "    </tr>\n",
       "    <tr>\n",
       "      <th>2019-12-31</th>\n",
       "      <td>0.636354</td>\n",
       "      <td>0.032837</td>\n",
       "      <td>0.289032</td>\n",
       "      <td>0.211687</td>\n",
       "      <td>0.187304</td>\n",
       "      <td>0.454624</td>\n",
       "    </tr>\n",
       "    <tr>\n",
       "      <th>2020-12-31</th>\n",
       "      <td>0.600521</td>\n",
       "      <td>-0.413973</td>\n",
       "      <td>0.225312</td>\n",
       "      <td>-0.011694</td>\n",
       "      <td>0.024391</td>\n",
       "      <td>0.354411</td>\n",
       "    </tr>\n",
       "    <tr>\n",
       "      <th>2021-12-31</th>\n",
       "      <td>0.297495</td>\n",
       "      <td>-0.061361</td>\n",
       "      <td>-0.156776</td>\n",
       "      <td>0.154032</td>\n",
       "      <td>0.107710</td>\n",
       "      <td>0.421843</td>\n",
       "    </tr>\n",
       "    <tr>\n",
       "      <th>2022-12-31</th>\n",
       "      <td>-0.306582</td>\n",
       "      <td>-0.055296</td>\n",
       "      <td>-0.578187</td>\n",
       "      <td>0.101084</td>\n",
       "      <td>0.100836</td>\n",
       "      <td>-0.328848</td>\n",
       "    </tr>\n",
       "    <tr>\n",
       "      <th>2023-12-31</th>\n",
       "      <td>0.398830</td>\n",
       "      <td>0.313617</td>\n",
       "      <td>0.041753</td>\n",
       "      <td>0.197610</td>\n",
       "      <td>-0.045359</td>\n",
       "      <td>0.458635</td>\n",
       "    </tr>\n",
       "    <tr>\n",
       "      <th>2024-12-31</th>\n",
       "      <td>-0.133288</td>\n",
       "      <td>-0.394667</td>\n",
       "      <td>0.262347</td>\n",
       "      <td>0.146295</td>\n",
       "      <td>0.009832</td>\n",
       "      <td>0.115687</td>\n",
       "    </tr>\n",
       "  </tbody>\n",
       "</table>\n",
       "</div>"
      ],
      "text/plain": [
       "                AAPL        BA       DIS       IBM        KO      MSFT\n",
       "Date                                                                  \n",
       "2015-12-31       NaN       NaN       NaN       NaN       NaN       NaN\n",
       "2016-12-31  0.117609  0.107138  0.006697  0.224829 -0.003577  0.140438\n",
       "2017-12-31  0.395174  0.666367  0.046504 -0.040695  0.134374  0.341678\n",
       "2018-12-31 -0.055409  0.108869  0.035443 -0.255641  0.065539  0.188927\n",
       "2019-12-31  0.636354  0.032837  0.289032  0.211687  0.187304  0.454624\n",
       "2020-12-31  0.600521 -0.413973  0.225312 -0.011694  0.024391  0.354411\n",
       "2021-12-31  0.297495 -0.061361 -0.156776  0.154032  0.107710  0.421843\n",
       "2022-12-31 -0.306582 -0.055296 -0.578187  0.101084  0.100836 -0.328848\n",
       "2023-12-31  0.398830  0.313617  0.041753  0.197610 -0.045359  0.458635\n",
       "2024-12-31 -0.133288 -0.394667  0.262347  0.146295  0.009832  0.115687"
      ]
     },
     "execution_count": 16,
     "metadata": {},
     "output_type": "execute_result"
    }
   ],
   "source": [
    "# Annual log returns\n",
    "np.log(stocks.resample('Y').last()) - np.log(stocks.resample('Y').last().shift(1))"
   ]
  },
  {
   "cell_type": "markdown",
   "id": "c18dc9d0",
   "metadata": {},
   "source": [
    "Compare these values with the one of the SR annual returns, e.g. compare years 2017, 2019, 2020 of AAPL."
   ]
  },
  {
   "cell_type": "markdown",
   "id": "db0665ee",
   "metadata": {},
   "source": [
    "# Average Returns and Volatility\n",
    "Now we compute the average returns."
   ]
  },
  {
   "cell_type": "code",
   "execution_count": 17,
   "id": "14b6a2e3",
   "metadata": {},
   "outputs": [],
   "source": [
    "# Daily simple return\n",
    "SR = stocks.pct_change(periods=1)\n",
    "# Drop rows with null values, e.g. the first row\n",
    "SR = SR.dropna()"
   ]
  },
  {
   "cell_type": "code",
   "execution_count": 18,
   "id": "a05941d3",
   "metadata": {},
   "outputs": [
    {
     "data": {
      "text/plain": [
       "<Axes: xlabel='Date'>"
      ]
     },
     "execution_count": 18,
     "metadata": {},
     "output_type": "execute_result"
    },
    {
     "data": {
      "image/png": "[encoded data removed]",
      "text/plain": [
       "<Figure size 432x288 with 1 Axes>"
      ]
     },
     "metadata": {
      "needs_background": "light"
     },
     "output_type": "display_data"
    }
   ],
   "source": [
    "# Take the simple return of Apple\n",
    "apple = SR.AAPL\n",
    "apple.plot()"
   ]
  },
  {
   "cell_type": "markdown",
   "id": "29e8dfd0",
   "metadata": {},
   "source": [
    "We can see that the daily returns are around the zero value.\n",
    "We can look at it as an histogram:"
   ]
  },
  {
   "cell_type": "code",
   "execution_count": 19,
   "id": "b89cd5d9",
   "metadata": {},
   "outputs": [
    {
     "data": {
      "text/plain": [
       "<Axes: ylabel='Frequency'>"
      ]
     },
     "execution_count": 19,
     "metadata": {},
     "output_type": "execute_result"
    },
    {
     "data": {
      "image/png": "[encoded data removed]",
      "text/plain": [
       "<Figure size 432x288 with 1 Axes>"
      ]
     },
     "metadata": {
      "needs_background": "light"
     },
     "output_type": "display_data"
    }
   ],
   "source": [
    "apple.plot(kind='hist', bins=100)"
   ]
  },
  {
   "cell_type": "code",
   "execution_count": 20,
   "id": "7418fcc0",
   "metadata": {},
   "outputs": [
    {
     "data": {
      "text/plain": [
       "(0.000756279195084586, 0.0009926355483843223)"
      ]
     },
     "execution_count": 20,
     "metadata": {},
     "output_type": "execute_result"
    }
   ],
   "source": [
    "# Daily average return\n",
    "apple.median(), apple.mean() "
   ]
  },
  {
   "cell_type": "code",
   "execution_count": 21,
   "id": "d5fc1624",
   "metadata": {},
   "outputs": [
    {
     "data": {
      "text/plain": [
       "0.01815499922803047"
      ]
     },
     "execution_count": 21,
     "metadata": {},
     "output_type": "execute_result"
    }
   ],
   "source": [
    "# Standard deviation -> volatility\n",
    "# of the daily prices\n",
    "apple.std()"
   ]
  },
  {
   "cell_type": "markdown",
   "id": "c95684c1",
   "metadata": {},
   "source": [
    "To compute the **average annual return**, starting from the daily return we must use the formula:\n",
    "\n",
    "$ AAR = (1 + DAILY\\_MEAN)^{250} -1$\n",
    "\n",
    "where it is raised to the power of 250 because there are 250 tradable days in a year."
   ]
  },
  {
   "cell_type": "code",
   "execution_count": 22,
   "id": "f6f273db",
   "metadata": {},
   "outputs": [
    {
     "data": {
      "text/plain": [
       "0.2815058129647168"
      ]
     },
     "execution_count": 22,
     "metadata": {},
     "output_type": "execute_result"
    }
   ],
   "source": [
    "AAR = (1 + apple.mean())**250 - 1\n",
    "AAR"
   ]
  },
  {
   "cell_type": "markdown",
   "id": "e23b57a8",
   "metadata": {},
   "source": [
    "And the **average annual volatility** of the daily prices is computed as:\n",
    "\n",
    "$ AAV = \\sqrt{\\sigma^2 \\times 250} = \\sigma \\times \\sqrt{250}$\n",
    "\n",
    "where $\\sigma^2$ is the variance of the daily prices. "
   ]
  },
  {
   "cell_type": "code",
   "execution_count": 23,
   "id": "57e9f7b0",
   "metadata": {},
   "outputs": [
    {
     "data": {
      "text/plain": [
       "(0.28705574239587467, 0.28705574239587467)"
      ]
     },
     "execution_count": 23,
     "metadata": {},
     "output_type": "execute_result"
    }
   ],
   "source": [
    "AAV_1 = np.sqrt(apple.var()*250)\n",
    "AAV_2 = apple.std()*np.sqrt(250)\n",
    "AAV_1, AAV_2"
   ]
  },
  {
   "cell_type": "markdown",
   "id": "5e1f9df8",
   "metadata": {},
   "source": [
    "Now we create a dataframe that has the AAR and AAV for each stock, then we visualize the relationship between returns and volatility."
   ]
  },
  {
   "cell_type": "code",
   "execution_count": 24,
   "id": "8d26e2b4",
   "metadata": {},
   "outputs": [
    {
     "data": {
      "text/html": [
       "<div>\n",
       "<style scoped>\n",
       "    .dataframe tbody tr th:only-of-type {\n",
       "        vertical-align: middle;\n",
       "    }\n",
       "\n",
       "    .dataframe tbody tr th {\n",
       "        vertical-align: top;\n",
       "    }\n",
       "\n",
       "    .dataframe thead th {\n",
       "        text-align: right;\n",
       "    }\n",
       "</style>\n",
       "<table border=\"1\" class=\"dataframe\">\n",
       "  <thead>\n",
       "    <tr style=\"text-align: right;\">\n",
       "      <th></th>\n",
       "      <th>Return</th>\n",
       "      <th>Volatility</th>\n",
       "    </tr>\n",
       "  </thead>\n",
       "  <tbody>\n",
       "    <tr>\n",
       "      <th>AAPL</th>\n",
       "      <td>0.281506</td>\n",
       "      <td>0.287056</td>\n",
       "    </tr>\n",
       "    <tr>\n",
       "      <th>BA</th>\n",
       "      <td>0.137992</td>\n",
       "      <td>0.406189</td>\n",
       "    </tr>\n",
       "    <tr>\n",
       "      <th>DIS</th>\n",
       "      <td>0.073693</td>\n",
       "      <td>0.280166</td>\n",
       "    </tr>\n",
       "    <tr>\n",
       "      <th>IBM</th>\n",
       "      <td>0.096873</td>\n",
       "      <td>0.238508</td>\n",
       "    </tr>\n",
       "    <tr>\n",
       "      <th>KO</th>\n",
       "      <td>0.087845</td>\n",
       "      <td>0.180244</td>\n",
       "    </tr>\n",
       "    <tr>\n",
       "      <th>MSFT</th>\n",
       "      <td>0.335245</td>\n",
       "      <td>0.274892</td>\n",
       "    </tr>\n",
       "  </tbody>\n",
       "</table>\n",
       "</div>"
      ],
      "text/plain": [
       "        Return  Volatility\n",
       "AAPL  0.281506    0.287056\n",
       "BA    0.137992    0.406189\n",
       "DIS   0.073693    0.280166\n",
       "IBM   0.096873    0.238508\n",
       "KO    0.087845    0.180244\n",
       "MSFT  0.335245    0.274892"
      ]
     },
     "execution_count": 24,
     "metadata": {},
     "output_type": "execute_result"
    }
   ],
   "source": [
    "summaryTable = pd.DataFrame({\"Return\": (1+SR.mean())**250-1,\n",
    "                             \"Volatility\": SR.std()*np.sqrt(250)})\n",
    "\n",
    "summaryTable"
   ]
  },
  {
   "cell_type": "code",
   "execution_count": 25,
   "id": "f7aecee6",
   "metadata": {},
   "outputs": [
    {
     "data": {
      "image/png": "[encoded data removed]",
      "text/plain": [
       "<Figure size 432x288 with 1 Axes>"
      ]
     },
     "metadata": {
      "needs_background": "light"
     },
     "output_type": "display_data"
    }
   ],
   "source": [
    "summaryTable.plot.scatter(x=\"Volatility\", y=\"Return\", s=100)\n",
    "# to have the stocks names close to the points\n",
    "for idx in summaryTable.index:\n",
    "    plt.annotate(idx, xy=(summaryTable.loc[idx,\"Volatility\"]+0.004,\n",
    "                          summaryTable.loc[idx,\"Return\"]+0.004),\n",
    "                 fontsize=13)"
   ]
  },
  {
   "cell_type": "markdown",
   "id": "5f247ced",
   "metadata": {},
   "source": [
    "This plot shows the so called **efficient frontier**: we want the highiest return with the lowest volatility. Thus, looking at the plot, we want a point that is in the left part of the plot (low volatility) and high in the plot (high return).\n",
    "\n",
    "So given the data that we have we can see that both Apple and Microsoft (AAPL and MSFT) are always preferred to Boeing (BA), because they are more to the left and high. \n",
    "Instead it is not so easy to compare Disney (DIS) and Boeing, because it is true that Disney has lower volatility, but Boing has highier returns.  "
   ]
  },
  {
   "cell_type": "markdown",
   "id": "052c04c4",
   "metadata": {},
   "source": [
    "# Correlation\n",
    "\n",
    "We can look at the correlation that is present between the stocks. It is very useful when we want to create a portfolio. Collaration can take value in the inverval (-1,1), where 1 means perfectly correlated and -1 perfectly uncorrelated. A value around 0 means that the stocks are not correlated. When you create a portfolio usually you want to have stocks with low correlation value in order to balace the portfolio."
   ]
  },
  {
   "cell_type": "code",
   "execution_count": 26,
   "id": "146ebf20",
   "metadata": {},
   "outputs": [
    {
     "data": {
      "text/html": [
       "<div>\n",
       "<style scoped>\n",
       "    .dataframe tbody tr th:only-of-type {\n",
       "        vertical-align: middle;\n",
       "    }\n",
       "\n",
       "    .dataframe tbody tr th {\n",
       "        vertical-align: top;\n",
       "    }\n",
       "\n",
       "    .dataframe thead th {\n",
       "        text-align: right;\n",
       "    }\n",
       "</style>\n",
       "<table border=\"1\" class=\"dataframe\">\n",
       "  <thead>\n",
       "    <tr style=\"text-align: right;\">\n",
       "      <th></th>\n",
       "      <th>AAPL</th>\n",
       "      <th>BA</th>\n",
       "      <th>DIS</th>\n",
       "      <th>IBM</th>\n",
       "      <th>KO</th>\n",
       "      <th>MSFT</th>\n",
       "    </tr>\n",
       "  </thead>\n",
       "  <tbody>\n",
       "    <tr>\n",
       "      <th>AAPL</th>\n",
       "      <td>1.000000</td>\n",
       "      <td>0.407278</td>\n",
       "      <td>0.432077</td>\n",
       "      <td>0.414665</td>\n",
       "      <td>0.382074</td>\n",
       "      <td>0.691939</td>\n",
       "    </tr>\n",
       "    <tr>\n",
       "      <th>BA</th>\n",
       "      <td>0.407278</td>\n",
       "      <td>1.000000</td>\n",
       "      <td>0.485584</td>\n",
       "      <td>0.433390</td>\n",
       "      <td>0.415865</td>\n",
       "      <td>0.381275</td>\n",
       "    </tr>\n",
       "    <tr>\n",
       "      <th>DIS</th>\n",
       "      <td>0.432077</td>\n",
       "      <td>0.485584</td>\n",
       "      <td>1.000000</td>\n",
       "      <td>0.414126</td>\n",
       "      <td>0.413634</td>\n",
       "      <td>0.455050</td>\n",
       "    </tr>\n",
       "    <tr>\n",
       "      <th>IBM</th>\n",
       "      <td>0.414665</td>\n",
       "      <td>0.433390</td>\n",
       "      <td>0.414126</td>\n",
       "      <td>1.000000</td>\n",
       "      <td>0.484386</td>\n",
       "      <td>0.450148</td>\n",
       "    </tr>\n",
       "    <tr>\n",
       "      <th>KO</th>\n",
       "      <td>0.382074</td>\n",
       "      <td>0.415865</td>\n",
       "      <td>0.413634</td>\n",
       "      <td>0.484386</td>\n",
       "      <td>1.000000</td>\n",
       "      <td>0.419944</td>\n",
       "    </tr>\n",
       "    <tr>\n",
       "      <th>MSFT</th>\n",
       "      <td>0.691939</td>\n",
       "      <td>0.381275</td>\n",
       "      <td>0.455050</td>\n",
       "      <td>0.450148</td>\n",
       "      <td>0.419944</td>\n",
       "      <td>1.000000</td>\n",
       "    </tr>\n",
       "  </tbody>\n",
       "</table>\n",
       "</div>"
      ],
      "text/plain": [
       "          AAPL        BA       DIS       IBM        KO      MSFT\n",
       "AAPL  1.000000  0.407278  0.432077  0.414665  0.382074  0.691939\n",
       "BA    0.407278  1.000000  0.485584  0.433390  0.415865  0.381275\n",
       "DIS   0.432077  0.485584  1.000000  0.414126  0.413634  0.455050\n",
       "IBM   0.414665  0.433390  0.414126  1.000000  0.484386  0.450148\n",
       "KO    0.382074  0.415865  0.413634  0.484386  1.000000  0.419944\n",
       "MSFT  0.691939  0.381275  0.455050  0.450148  0.419944  1.000000"
      ]
     },
     "execution_count": 26,
     "metadata": {},
     "output_type": "execute_result"
    }
   ],
   "source": [
    "correlation = SR.corr()\n",
    "correlation"
   ]
  },
  {
   "cell_type": "markdown",
   "id": "c818ee2a",
   "metadata": {},
   "source": [
    "The correlation data can be visualized better using a *heatmap*:"
   ]
  },
  {
   "cell_type": "code",
   "execution_count": 35,
   "id": "095d09bc",
   "metadata": {},
   "outputs": [
    {
     "data": {
      "text/plain": [
       "<Axes: >"
      ]
     },
     "execution_count": 35,
     "metadata": {},
     "output_type": "execute_result"
    },
    {
     "data": {
      "image/png": "[encoded data removed]",
      "text/plain": [
       "<Figure size 720x576 with 2 Axes>"
      ]
     },
     "metadata": {
      "needs_background": "light"
     },
     "output_type": "display_data"
    }
   ],
   "source": [
    "import seaborn\n",
    "plt.figure(figsize=(10,8))\n",
    "seaborn.heatmap(correlation, cmap=\"Reds\", annot=True, annot_kws={\"size\":12})"
   ]
  },
  {
   "cell_type": "markdown",
   "id": "310cdfdc",
   "metadata": {},
   "source": [
    "Darker colors means high correlation."
   ]
  }
 ],
 "metadata": {
  "kernelspec": {
   "display_name": "Python 3",
   "language": "python",
   "name": "python3"
  },
  "language_info": {
   "codemirror_mode": {
    "name": "ipython",
    "version": 3
   },
   "file_extension": ".py",
   "mimetype": "text/x-python",
   "name": "python",
   "nbconvert_exporter": "python",
   "pygments_lexer": "ipython3",
   "version": "3.8.17"
  }
 },
 "nbformat": 4,
 "nbformat_minor": 5
}
