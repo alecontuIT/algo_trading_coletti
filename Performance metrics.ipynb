{
 "cells": [
  {
   "cell_type": "code",
   "execution_count": 3,
   "id": "4c27e0a5",
   "metadata": {},
   "outputs": [],
   "source": [
    "import pandas as pd\n",
    "import numpy as np\n",
    "import matplotlib.pyplot as plt\n",
    "import yfinance as yf"
   ]
  },
  {
   "cell_type": "code",
   "execution_count": 28,
   "id": "5707a99f",
   "metadata": {},
   "outputs": [
    {
     "name": "stdout",
     "output_type": "stream",
     "text": [
      "[*********************100%%**********************]  1 of 1 completed\n"
     ]
    }
   ],
   "source": [
    "df = yf.download('EURUSD=X', start ='2008-10-9')['Adj Close'].to_frame()"
   ]
  },
  {
   "cell_type": "code",
   "execution_count": 29,
   "id": "190a97fd",
   "metadata": {},
   "outputs": [
    {
     "data": {
      "text/html": [
       "<div>\n",
       "<style scoped>\n",
       "    .dataframe tbody tr th:only-of-type {\n",
       "        vertical-align: middle;\n",
       "    }\n",
       "\n",
       "    .dataframe tbody tr th {\n",
       "        vertical-align: top;\n",
       "    }\n",
       "\n",
       "    .dataframe thead th {\n",
       "        text-align: right;\n",
       "    }\n",
       "</style>\n",
       "<table border=\"1\" class=\"dataframe\">\n",
       "  <thead>\n",
       "    <tr style=\"text-align: right;\">\n",
       "      <th></th>\n",
       "      <th>Adj Close</th>\n",
       "    </tr>\n",
       "    <tr>\n",
       "      <th>Date</th>\n",
       "      <th></th>\n",
       "    </tr>\n",
       "  </thead>\n",
       "  <tbody>\n",
       "    <tr>\n",
       "      <th>2008-10-09</th>\n",
       "      <td>1.359804</td>\n",
       "    </tr>\n",
       "    <tr>\n",
       "      <th>2008-10-10</th>\n",
       "      <td>1.339800</td>\n",
       "    </tr>\n",
       "    <tr>\n",
       "      <th>2008-10-13</th>\n",
       "      <td>1.362194</td>\n",
       "    </tr>\n",
       "    <tr>\n",
       "      <th>2008-10-14</th>\n",
       "      <td>1.361804</td>\n",
       "    </tr>\n",
       "    <tr>\n",
       "      <th>2008-10-15</th>\n",
       "      <td>1.344393</td>\n",
       "    </tr>\n",
       "  </tbody>\n",
       "</table>\n",
       "</div>"
      ],
      "text/plain": [
       "            Adj Close\n",
       "Date                 \n",
       "2008-10-09   1.359804\n",
       "2008-10-10   1.339800\n",
       "2008-10-13   1.362194\n",
       "2008-10-14   1.361804\n",
       "2008-10-15   1.344393"
      ]
     },
     "execution_count": 29,
     "metadata": {},
     "output_type": "execute_result"
    }
   ],
   "source": [
    "df.head()"
   ]
  },
  {
   "cell_type": "markdown",
   "id": "b1511689",
   "metadata": {},
   "source": [
    "We use the logaritmic returns because it is easier to do the computation for returns on time periods. Thanks to the logarithm properties we can just sum the log return."
   ]
  },
  {
   "cell_type": "code",
   "execution_count": 30,
   "id": "004f3fe9",
   "metadata": {},
   "outputs": [],
   "source": [
    "df['logRet'] = np.log(df['Adj Close']/df['Adj Close'].shift(1))\n",
    "\n",
    "df.dropna(inplace=True)"
   ]
  },
  {
   "cell_type": "code",
   "execution_count": 31,
   "id": "58d3819d",
   "metadata": {},
   "outputs": [
    {
     "data": {
      "text/plain": [
       "(-0.04, 0.04)"
      ]
     },
     "execution_count": 31,
     "metadata": {},
     "output_type": "execute_result"
    },
    {
     "data": {
      "image/png": "[encoded data removed]",
      "text/plain": [
       "<Figure size 864x432 with 1 Axes>"
      ]
     },
     "metadata": {
      "needs_background": "light"
     },
     "output_type": "display_data"
    }
   ],
   "source": [
    "plt.figure(figsize=(12,6))\n",
    "df.logRet.plot(kind='hist', bins=300)\n",
    "plt.xlim(-0.04, 0.04)"
   ]
  },
  {
   "cell_type": "markdown",
   "id": "572def50",
   "metadata": {},
   "source": [
    "To compute the total return for the whole period, we can just sum the log returns:"
   ]
  },
  {
   "cell_type": "code",
   "execution_count": 32,
   "id": "233b07ae",
   "metadata": {},
   "outputs": [
    {
     "data": {
      "text/plain": [
       "-0.23670363223213808"
      ]
     },
     "execution_count": 32,
     "metadata": {},
     "output_type": "execute_result"
    }
   ],
   "source": [
    "df.logRet.sum()"
   ]
  },
  {
   "cell_type": "markdown",
   "id": "799cac13",
   "metadata": {},
   "source": [
    "If we want to see the how much is worth now a dollar bought at the beginning of the period compared to a euro now, or we can see it as investing 1 EUR in USD at the beginning of the period  how much is worth it now:\n",
    "\n",
    "$LR = log \\frac{P_{end}}{P_{start}}$\n",
    "\n",
    "We apply the exponent to both side:\n",
    "\n",
    "$e^{LR} = \\frac{P_{end}}{P_{start}}$\n",
    "\n",
    "So we can write:\n",
    "\n",
    "$P_{end} = P_{start} \\times e^{LR}$"
   ]
  },
  {
   "cell_type": "code",
   "execution_count": 33,
   "id": "23a69f4d",
   "metadata": {},
   "outputs": [
    {
     "data": {
      "text/plain": [
       "0.789225154257998"
      ]
     },
     "execution_count": 33,
     "metadata": {},
     "output_type": "execute_result"
    }
   ],
   "source": [
    "dollar_price_start = 1\n",
    "dollar_value_now = np.exp(df.logRet.sum()) * dollar_price_start\n",
    "dollar_value_now"
   ]
  },
  {
   "cell_type": "markdown",
   "id": "4cd6451e",
   "metadata": {},
   "source": [
    "If we want to compute the cumulative log return till a certain time $T$, we can use the pandas function *cumsum()* that does it for us:"
   ]
  },
  {
   "cell_type": "code",
   "execution_count": 34,
   "id": "477297cd",
   "metadata": {},
   "outputs": [
    {
     "data": {
      "text/html": [
       "<div>\n",
       "<style scoped>\n",
       "    .dataframe tbody tr th:only-of-type {\n",
       "        vertical-align: middle;\n",
       "    }\n",
       "\n",
       "    .dataframe tbody tr th {\n",
       "        vertical-align: top;\n",
       "    }\n",
       "\n",
       "    .dataframe thead th {\n",
       "        text-align: right;\n",
       "    }\n",
       "</style>\n",
       "<table border=\"1\" class=\"dataframe\">\n",
       "  <thead>\n",
       "    <tr style=\"text-align: right;\">\n",
       "      <th></th>\n",
       "      <th>Adj Close</th>\n",
       "      <th>logRet</th>\n",
       "      <th>cumLogRet</th>\n",
       "    </tr>\n",
       "    <tr>\n",
       "      <th>Date</th>\n",
       "      <th></th>\n",
       "      <th></th>\n",
       "      <th></th>\n",
       "    </tr>\n",
       "  </thead>\n",
       "  <tbody>\n",
       "    <tr>\n",
       "      <th>2008-10-10</th>\n",
       "      <td>1.339800</td>\n",
       "      <td>-0.014820</td>\n",
       "      <td>-0.014820</td>\n",
       "    </tr>\n",
       "    <tr>\n",
       "      <th>2008-10-13</th>\n",
       "      <td>1.362194</td>\n",
       "      <td>0.016576</td>\n",
       "      <td>0.001756</td>\n",
       "    </tr>\n",
       "    <tr>\n",
       "      <th>2008-10-14</th>\n",
       "      <td>1.361804</td>\n",
       "      <td>-0.000286</td>\n",
       "      <td>0.001470</td>\n",
       "    </tr>\n",
       "    <tr>\n",
       "      <th>2008-10-15</th>\n",
       "      <td>1.344393</td>\n",
       "      <td>-0.012868</td>\n",
       "      <td>-0.011398</td>\n",
       "    </tr>\n",
       "    <tr>\n",
       "      <th>2008-10-16</th>\n",
       "      <td>1.349000</td>\n",
       "      <td>0.003421</td>\n",
       "      <td>-0.007977</td>\n",
       "    </tr>\n",
       "  </tbody>\n",
       "</table>\n",
       "</div>"
      ],
      "text/plain": [
       "            Adj Close    logRet  cumLogRet\n",
       "Date                                      \n",
       "2008-10-10   1.339800 -0.014820  -0.014820\n",
       "2008-10-13   1.362194  0.016576   0.001756\n",
       "2008-10-14   1.361804 -0.000286   0.001470\n",
       "2008-10-15   1.344393 -0.012868  -0.011398\n",
       "2008-10-16   1.349000  0.003421  -0.007977"
      ]
     },
     "execution_count": 34,
     "metadata": {},
     "output_type": "execute_result"
    }
   ],
   "source": [
    "df['cumLogRet'] = df.logRet.cumsum()\n",
    "\n",
    "df.head(5)"
   ]
  },
  {
   "cell_type": "markdown",
   "id": "23977b84",
   "metadata": {},
   "source": [
    "Where we can see that:\n",
    "\n",
    "$cumLogRet_T = \\sum_{t=1}^{T} logRet_t = logRet_{T} + logRet_{T-1} + logRet_{T-2} + \\ldots + logRet_{start}$.\n",
    "\n",
    "If we want to see the value through time of 1 USD bought at the beginning, we can apply the formula we saw above:"
   ]
  },
  {
   "cell_type": "code",
   "execution_count": 36,
   "id": "5b824717",
   "metadata": {},
   "outputs": [
    {
     "data": {
      "text/html": [
       "<div>\n",
       "<style scoped>\n",
       "    .dataframe tbody tr th:only-of-type {\n",
       "        vertical-align: middle;\n",
       "    }\n",
       "\n",
       "    .dataframe tbody tr th {\n",
       "        vertical-align: top;\n",
       "    }\n",
       "\n",
       "    .dataframe thead th {\n",
       "        text-align: right;\n",
       "    }\n",
       "</style>\n",
       "<table border=\"1\" class=\"dataframe\">\n",
       "  <thead>\n",
       "    <tr style=\"text-align: right;\">\n",
       "      <th></th>\n",
       "      <th>Adj Close</th>\n",
       "      <th>logRet</th>\n",
       "      <th>cumLogRet</th>\n",
       "      <th>value1USD</th>\n",
       "    </tr>\n",
       "    <tr>\n",
       "      <th>Date</th>\n",
       "      <th></th>\n",
       "      <th></th>\n",
       "      <th></th>\n",
       "      <th></th>\n",
       "    </tr>\n",
       "  </thead>\n",
       "  <tbody>\n",
       "    <tr>\n",
       "      <th>2008-10-10</th>\n",
       "      <td>1.339800</td>\n",
       "      <td>-0.014820</td>\n",
       "      <td>-0.014820</td>\n",
       "      <td>0.985289</td>\n",
       "    </tr>\n",
       "    <tr>\n",
       "      <th>2008-10-13</th>\n",
       "      <td>1.362194</td>\n",
       "      <td>0.016576</td>\n",
       "      <td>0.001756</td>\n",
       "      <td>1.001757</td>\n",
       "    </tr>\n",
       "    <tr>\n",
       "      <th>2008-10-14</th>\n",
       "      <td>1.361804</td>\n",
       "      <td>-0.000286</td>\n",
       "      <td>0.001470</td>\n",
       "      <td>1.001471</td>\n",
       "    </tr>\n",
       "    <tr>\n",
       "      <th>2008-10-15</th>\n",
       "      <td>1.344393</td>\n",
       "      <td>-0.012868</td>\n",
       "      <td>-0.011398</td>\n",
       "      <td>0.988667</td>\n",
       "    </tr>\n",
       "    <tr>\n",
       "      <th>2008-10-16</th>\n",
       "      <td>1.349000</td>\n",
       "      <td>0.003421</td>\n",
       "      <td>-0.007977</td>\n",
       "      <td>0.992054</td>\n",
       "    </tr>\n",
       "  </tbody>\n",
       "</table>\n",
       "</div>"
      ],
      "text/plain": [
       "            Adj Close    logRet  cumLogRet  value1USD\n",
       "Date                                                 \n",
       "2008-10-10   1.339800 -0.014820  -0.014820   0.985289\n",
       "2008-10-13   1.362194  0.016576   0.001756   1.001757\n",
       "2008-10-14   1.361804 -0.000286   0.001470   1.001471\n",
       "2008-10-15   1.344393 -0.012868  -0.011398   0.988667\n",
       "2008-10-16   1.349000  0.003421  -0.007977   0.992054"
      ]
     },
     "execution_count": 36,
     "metadata": {},
     "output_type": "execute_result"
    }
   ],
   "source": [
    "df['value1USD'] = df.logRet.cumsum().apply(np.exp)\n",
    "\n",
    "df.head()"
   ]
  },
  {
   "cell_type": "code",
   "execution_count": 41,
   "id": "9c5a8a95",
   "metadata": {},
   "outputs": [
    {
     "data": {
      "text/plain": [
       "<Axes: xlabel='Date'>"
      ]
     },
     "execution_count": 41,
     "metadata": {},
     "output_type": "execute_result"
    },
    {
     "data": {
      "image/png": "[encoded data removed]",
      "text/plain": [
       "<Figure size 864x360 with 1 Axes>"
      ]
     },
     "metadata": {
      "needs_background": "light"
     },
     "output_type": "display_data"
    }
   ],
   "source": [
    "# Value of 1 USD compared to EUR\n",
    "plt.figure(figsize=(12,5))\n",
    "df.value1USD.plot()"
   ]
  },
  {
   "cell_type": "markdown",
   "id": "ab595dbe",
   "metadata": {},
   "source": [
    "# Performance metrics"
   ]
  },
  {
   "cell_type": "code",
   "execution_count": null,
   "id": "cb9e3902",
   "metadata": {},
   "outputs": [],
   "source": []
  }
 ],
 "metadata": {
  "kernelspec": {
   "display_name": "Python 3",
   "language": "python",
   "name": "python3"
  },
  "language_info": {
   "codemirror_mode": {
    "name": "ipython",
    "version": 3
   },
   "file_extension": ".py",
   "mimetype": "text/x-python",
   "name": "python",
   "nbconvert_exporter": "python",
   "pygments_lexer": "ipython3",
   "version": "3.8.17"
  }
 },
 "nbformat": 4,
 "nbformat_minor": 5
}
