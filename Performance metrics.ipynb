{
 "cells": [
  {
   "cell_type": "code",
   "execution_count": 2,
   "id": "4c27e0a5",
   "metadata": {},
   "outputs": [],
   "source": [
    "import pandas as pd\n",
    "import numpy as np\n",
    "import matplotlib.pyplot as plt\n",
    "import yfinance as yf"
   ]
  },
  {
   "cell_type": "code",
   "execution_count": 3,
   "id": "5707a99f",
   "metadata": {},
   "outputs": [
    {
     "name": "stdout",
     "output_type": "stream",
     "text": [
      "[*********************100%%**********************]  1 of 1 completed\n"
     ]
    }
   ],
   "source": [
    "df = yf.download('EURUSD=X', start ='2008-10-9')['Adj Close'].to_frame()"
   ]
  },
  {
   "cell_type": "code",
   "execution_count": 4,
   "id": "190a97fd",
   "metadata": {},
   "outputs": [
    {
     "data": {
      "text/html": [
       "<div>\n",
       "<style scoped>\n",
       "    .dataframe tbody tr th:only-of-type {\n",
       "        vertical-align: middle;\n",
       "    }\n",
       "\n",
       "    .dataframe tbody tr th {\n",
       "        vertical-align: top;\n",
       "    }\n",
       "\n",
       "    .dataframe thead th {\n",
       "        text-align: right;\n",
       "    }\n",
       "</style>\n",
       "<table border=\"1\" class=\"dataframe\">\n",
       "  <thead>\n",
       "    <tr style=\"text-align: right;\">\n",
       "      <th></th>\n",
       "      <th>Adj Close</th>\n",
       "    </tr>\n",
       "    <tr>\n",
       "      <th>Date</th>\n",
       "      <th></th>\n",
       "    </tr>\n",
       "  </thead>\n",
       "  <tbody>\n",
       "    <tr>\n",
       "      <th>2008-10-09</th>\n",
       "      <td>1.359804</td>\n",
       "    </tr>\n",
       "    <tr>\n",
       "      <th>2008-10-10</th>\n",
       "      <td>1.339800</td>\n",
       "    </tr>\n",
       "    <tr>\n",
       "      <th>2008-10-13</th>\n",
       "      <td>1.362194</td>\n",
       "    </tr>\n",
       "    <tr>\n",
       "      <th>2008-10-14</th>\n",
       "      <td>1.361804</td>\n",
       "    </tr>\n",
       "    <tr>\n",
       "      <th>2008-10-15</th>\n",
       "      <td>1.344393</td>\n",
       "    </tr>\n",
       "  </tbody>\n",
       "</table>\n",
       "</div>"
      ],
      "text/plain": [
       "            Adj Close\n",
       "Date                 \n",
       "2008-10-09   1.359804\n",
       "2008-10-10   1.339800\n",
       "2008-10-13   1.362194\n",
       "2008-10-14   1.361804\n",
       "2008-10-15   1.344393"
      ]
     },
     "execution_count": 4,
     "metadata": {},
     "output_type": "execute_result"
    }
   ],
   "source": [
    "df.head()"
   ]
  },
  {
   "cell_type": "markdown",
   "id": "b1511689",
   "metadata": {},
   "source": [
    "We use the logaritmic returns because it is easier to do the computation for returns on time periods. Thanks to the logarithm properties we can just sum the log return."
   ]
  },
  {
   "cell_type": "code",
   "execution_count": 5,
   "id": "004f3fe9",
   "metadata": {},
   "outputs": [],
   "source": [
    "df['logRet'] = np.log(df['Adj Close']/df['Adj Close'].shift(1))\n",
    "\n",
    "df.dropna(inplace=True)"
   ]
  },
  {
   "cell_type": "code",
   "execution_count": 6,
   "id": "58d3819d",
   "metadata": {},
   "outputs": [
    {
     "data": {
      "text/plain": [
       "(-0.04, 0.04)"
      ]
     },
     "execution_count": 6,
     "metadata": {},
     "output_type": "execute_result"
    },
    {
     "data": {
      "image/png": "[encoded data removed]",
      "text/plain": [
       "<Figure size 864x432 with 1 Axes>"
      ]
     },
     "metadata": {
      "needs_background": "light"
     },
     "output_type": "display_data"
    }
   ],
   "source": [
    "plt.figure(figsize=(12,6))\n",
    "df.logRet.plot(kind='hist', bins=300)\n",
    "plt.xlim(-0.04, 0.04)"
   ]
  },
  {
   "cell_type": "markdown",
   "id": "572def50",
   "metadata": {},
   "source": [
    "To compute the total return for the whole period, we can just sum the log returns:"
   ]
  },
  {
   "cell_type": "code",
   "execution_count": 7,
   "id": "233b07ae",
   "metadata": {},
   "outputs": [
    {
     "data": {
      "text/plain": [
       "-0.243335342421233"
      ]
     },
     "execution_count": 7,
     "metadata": {},
     "output_type": "execute_result"
    }
   ],
   "source": [
    "df.logRet.sum()"
   ]
  },
  {
   "cell_type": "markdown",
   "id": "799cac13",
   "metadata": {},
   "source": [
    "If we want to see the how much is worth now a dollar bought at the beginning of the period compared to a euro now, or we can see it as investing 1 EUR in USD at the beginning of the period  how much is worth it now:\n",
    "\n",
    "$LR = log \\frac{P_{end}}{P_{start}}$\n",
    "\n",
    "We apply the exponent to both side:\n",
    "\n",
    "$e^{LR} = \\frac{P_{end}}{P_{start}}$\n",
    "\n",
    "So we can write:\n",
    "\n",
    "$P_{end} = P_{start} \\times e^{LR}$"
   ]
  },
  {
   "cell_type": "code",
   "execution_count": 8,
   "id": "23a69f4d",
   "metadata": {},
   "outputs": [
    {
     "data": {
      "text/plain": [
       "0.7840085583557413"
      ]
     },
     "execution_count": 8,
     "metadata": {},
     "output_type": "execute_result"
    }
   ],
   "source": [
    "dollar_price_start = 1\n",
    "dollar_value_now = np.exp(df.logRet.sum()) * dollar_price_start\n",
    "dollar_value_now"
   ]
  },
  {
   "cell_type": "markdown",
   "id": "4cd6451e",
   "metadata": {},
   "source": [
    "If we want to compute the cumulative log return till a certain time $T$, we can use the pandas function *cumsum()* that does it for us:"
   ]
  },
  {
   "cell_type": "code",
   "execution_count": 9,
   "id": "477297cd",
   "metadata": {},
   "outputs": [
    {
     "data": {
      "text/html": [
       "<div>\n",
       "<style scoped>\n",
       "    .dataframe tbody tr th:only-of-type {\n",
       "        vertical-align: middle;\n",
       "    }\n",
       "\n",
       "    .dataframe tbody tr th {\n",
       "        vertical-align: top;\n",
       "    }\n",
       "\n",
       "    .dataframe thead th {\n",
       "        text-align: right;\n",
       "    }\n",
       "</style>\n",
       "<table border=\"1\" class=\"dataframe\">\n",
       "  <thead>\n",
       "    <tr style=\"text-align: right;\">\n",
       "      <th></th>\n",
       "      <th>Adj Close</th>\n",
       "      <th>logRet</th>\n",
       "      <th>cumLogRet</th>\n",
       "    </tr>\n",
       "    <tr>\n",
       "      <th>Date</th>\n",
       "      <th></th>\n",
       "      <th></th>\n",
       "      <th></th>\n",
       "    </tr>\n",
       "  </thead>\n",
       "  <tbody>\n",
       "    <tr>\n",
       "      <th>2008-10-10</th>\n",
       "      <td>1.339800</td>\n",
       "      <td>-0.014820</td>\n",
       "      <td>-0.014820</td>\n",
       "    </tr>\n",
       "    <tr>\n",
       "      <th>2008-10-13</th>\n",
       "      <td>1.362194</td>\n",
       "      <td>0.016576</td>\n",
       "      <td>0.001756</td>\n",
       "    </tr>\n",
       "    <tr>\n",
       "      <th>2008-10-14</th>\n",
       "      <td>1.361804</td>\n",
       "      <td>-0.000286</td>\n",
       "      <td>0.001470</td>\n",
       "    </tr>\n",
       "    <tr>\n",
       "      <th>2008-10-15</th>\n",
       "      <td>1.344393</td>\n",
       "      <td>-0.012868</td>\n",
       "      <td>-0.011398</td>\n",
       "    </tr>\n",
       "    <tr>\n",
       "      <th>2008-10-16</th>\n",
       "      <td>1.349000</td>\n",
       "      <td>0.003421</td>\n",
       "      <td>-0.007977</td>\n",
       "    </tr>\n",
       "  </tbody>\n",
       "</table>\n",
       "</div>"
      ],
      "text/plain": [
       "            Adj Close    logRet  cumLogRet\n",
       "Date                                      \n",
       "2008-10-10   1.339800 -0.014820  -0.014820\n",
       "2008-10-13   1.362194  0.016576   0.001756\n",
       "2008-10-14   1.361804 -0.000286   0.001470\n",
       "2008-10-15   1.344393 -0.012868  -0.011398\n",
       "2008-10-16   1.349000  0.003421  -0.007977"
      ]
     },
     "execution_count": 9,
     "metadata": {},
     "output_type": "execute_result"
    }
   ],
   "source": [
    "df['cumLogRet'] = df.logRet.cumsum()\n",
    "\n",
    "df.head(5)"
   ]
  },
  {
   "cell_type": "markdown",
   "id": "23977b84",
   "metadata": {},
   "source": [
    "Where we can see that:\n",
    "\n",
    "$cumLogRet_T = \\sum_{t=1}^{T} logRet_t = logRet_{T} + logRet_{T-1} + logRet_{T-2} + \\ldots + logRet_{start}$.\n",
    "\n",
    "If we want to see the value through time of 1 USD bought at the beginning, we can apply the formula we saw above:"
   ]
  },
  {
   "cell_type": "code",
   "execution_count": 10,
   "id": "5b824717",
   "metadata": {},
   "outputs": [
    {
     "data": {
      "text/html": [
       "<div>\n",
       "<style scoped>\n",
       "    .dataframe tbody tr th:only-of-type {\n",
       "        vertical-align: middle;\n",
       "    }\n",
       "\n",
       "    .dataframe tbody tr th {\n",
       "        vertical-align: top;\n",
       "    }\n",
       "\n",
       "    .dataframe thead th {\n",
       "        text-align: right;\n",
       "    }\n",
       "</style>\n",
       "<table border=\"1\" class=\"dataframe\">\n",
       "  <thead>\n",
       "    <tr style=\"text-align: right;\">\n",
       "      <th></th>\n",
       "      <th>Adj Close</th>\n",
       "      <th>logRet</th>\n",
       "      <th>cumLogRet</th>\n",
       "      <th>value1USD</th>\n",
       "    </tr>\n",
       "    <tr>\n",
       "      <th>Date</th>\n",
       "      <th></th>\n",
       "      <th></th>\n",
       "      <th></th>\n",
       "      <th></th>\n",
       "    </tr>\n",
       "  </thead>\n",
       "  <tbody>\n",
       "    <tr>\n",
       "      <th>2008-10-10</th>\n",
       "      <td>1.339800</td>\n",
       "      <td>-0.014820</td>\n",
       "      <td>-0.014820</td>\n",
       "      <td>0.985289</td>\n",
       "    </tr>\n",
       "    <tr>\n",
       "      <th>2008-10-13</th>\n",
       "      <td>1.362194</td>\n",
       "      <td>0.016576</td>\n",
       "      <td>0.001756</td>\n",
       "      <td>1.001757</td>\n",
       "    </tr>\n",
       "    <tr>\n",
       "      <th>2008-10-14</th>\n",
       "      <td>1.361804</td>\n",
       "      <td>-0.000286</td>\n",
       "      <td>0.001470</td>\n",
       "      <td>1.001471</td>\n",
       "    </tr>\n",
       "    <tr>\n",
       "      <th>2008-10-15</th>\n",
       "      <td>1.344393</td>\n",
       "      <td>-0.012868</td>\n",
       "      <td>-0.011398</td>\n",
       "      <td>0.988667</td>\n",
       "    </tr>\n",
       "    <tr>\n",
       "      <th>2008-10-16</th>\n",
       "      <td>1.349000</td>\n",
       "      <td>0.003421</td>\n",
       "      <td>-0.007977</td>\n",
       "      <td>0.992054</td>\n",
       "    </tr>\n",
       "  </tbody>\n",
       "</table>\n",
       "</div>"
      ],
      "text/plain": [
       "            Adj Close    logRet  cumLogRet  value1USD\n",
       "Date                                                 \n",
       "2008-10-10   1.339800 -0.014820  -0.014820   0.985289\n",
       "2008-10-13   1.362194  0.016576   0.001756   1.001757\n",
       "2008-10-14   1.361804 -0.000286   0.001470   1.001471\n",
       "2008-10-15   1.344393 -0.012868  -0.011398   0.988667\n",
       "2008-10-16   1.349000  0.003421  -0.007977   0.992054"
      ]
     },
     "execution_count": 10,
     "metadata": {},
     "output_type": "execute_result"
    }
   ],
   "source": [
    "df['value1USD'] = df.logRet.cumsum().apply(np.exp)\n",
    "\n",
    "df.head()"
   ]
  },
  {
   "cell_type": "code",
   "execution_count": 11,
   "id": "9c5a8a95",
   "metadata": {},
   "outputs": [
    {
     "data": {
      "text/plain": [
       "<Axes: xlabel='Date'>"
      ]
     },
     "execution_count": 11,
     "metadata": {},
     "output_type": "execute_result"
    },
    {
     "data": {
      "image/png": "[encoded data removed]",
      "text/plain": [
       "<Figure size 864x360 with 1 Axes>"
      ]
     },
     "metadata": {
      "needs_background": "light"
     },
     "output_type": "display_data"
    }
   ],
   "source": [
    "# Value of 1 USD compared to EUR\n",
    "plt.figure(figsize=(12,5))\n",
    "df.value1USD.plot()"
   ]
  },
  {
   "cell_type": "markdown",
   "id": "ab595dbe",
   "metadata": {},
   "source": [
    "# Performance metrics"
   ]
  },
  {
   "cell_type": "code",
   "execution_count": 12,
   "id": "cb9e3902",
   "metadata": {},
   "outputs": [
    {
     "data": {
      "text/html": [
       "<div>\n",
       "<style scoped>\n",
       "    .dataframe tbody tr th:only-of-type {\n",
       "        vertical-align: middle;\n",
       "    }\n",
       "\n",
       "    .dataframe tbody tr th {\n",
       "        vertical-align: top;\n",
       "    }\n",
       "\n",
       "    .dataframe thead th {\n",
       "        text-align: right;\n",
       "    }\n",
       "</style>\n",
       "<table border=\"1\" class=\"dataframe\">\n",
       "  <thead>\n",
       "    <tr style=\"text-align: right;\">\n",
       "      <th></th>\n",
       "      <th>Adj Close</th>\n",
       "      <th>logRet</th>\n",
       "      <th>cumLogRet</th>\n",
       "      <th>value1USD</th>\n",
       "    </tr>\n",
       "  </thead>\n",
       "  <tbody>\n",
       "    <tr>\n",
       "      <th>count</th>\n",
       "      <td>4046.000000</td>\n",
       "      <td>4046.000000</td>\n",
       "      <td>4046.000000</td>\n",
       "      <td>4046.000000</td>\n",
       "    </tr>\n",
       "    <tr>\n",
       "      <th>mean</th>\n",
       "      <td>1.210109</td>\n",
       "      <td>-0.000060</td>\n",
       "      <td>-0.121642</td>\n",
       "      <td>0.889914</td>\n",
       "    </tr>\n",
       "    <tr>\n",
       "      <th>std</th>\n",
       "      <td>0.122256</td>\n",
       "      <td>0.006725</td>\n",
       "      <td>0.099710</td>\n",
       "      <td>0.089907</td>\n",
       "    </tr>\n",
       "    <tr>\n",
       "      <th>min</th>\n",
       "      <td>0.959619</td>\n",
       "      <td>-0.143324</td>\n",
       "      <td>-0.348559</td>\n",
       "      <td>0.705704</td>\n",
       "    </tr>\n",
       "    <tr>\n",
       "      <th>25%</th>\n",
       "      <td>1.108024</td>\n",
       "      <td>-0.003229</td>\n",
       "      <td>-0.204763</td>\n",
       "      <td>0.814841</td>\n",
       "    </tr>\n",
       "    <tr>\n",
       "      <th>50%</th>\n",
       "      <td>1.179496</td>\n",
       "      <td>0.000000</td>\n",
       "      <td>-0.142254</td>\n",
       "      <td>0.867401</td>\n",
       "    </tr>\n",
       "    <tr>\n",
       "      <th>75%</th>\n",
       "      <td>1.317549</td>\n",
       "      <td>0.003107</td>\n",
       "      <td>-0.031567</td>\n",
       "      <td>0.968926</td>\n",
       "    </tr>\n",
       "    <tr>\n",
       "      <th>max</th>\n",
       "      <td>1.512791</td>\n",
       "      <td>0.159632</td>\n",
       "      <td>0.106615</td>\n",
       "      <td>1.112506</td>\n",
       "    </tr>\n",
       "  </tbody>\n",
       "</table>\n",
       "</div>"
      ],
      "text/plain": [
       "         Adj Close       logRet    cumLogRet    value1USD\n",
       "count  4046.000000  4046.000000  4046.000000  4046.000000\n",
       "mean      1.210109    -0.000060    -0.121642     0.889914\n",
       "std       0.122256     0.006725     0.099710     0.089907\n",
       "min       0.959619    -0.143324    -0.348559     0.705704\n",
       "25%       1.108024    -0.003229    -0.204763     0.814841\n",
       "50%       1.179496     0.000000    -0.142254     0.867401\n",
       "75%       1.317549     0.003107    -0.031567     0.968926\n",
       "max       1.512791     0.159632     0.106615     1.112506"
      ]
     },
     "execution_count": 12,
     "metadata": {},
     "output_type": "execute_result"
    }
   ],
   "source": [
    "df.describe()"
   ]
  },
  {
   "cell_type": "code",
   "execution_count": 16,
   "id": "7175a37c",
   "metadata": {},
   "outputs": [
    {
     "name": "stdout",
     "output_type": "stream",
     "text": [
      "Mean daily return: -6.014220030183712e-05\n",
      "Median daily return: 0.0\n",
      "Volatility: 0.00672452297477384\n",
      "Absolute return: -0.24333534242123273\n"
     ]
    }
   ],
   "source": [
    "# Mean daily returns\n",
    "print('Mean daily return:',df.logRet.mean())\n",
    "# Median daily returns\n",
    "print('Median daily return:',df.logRet.median())\n",
    "# Volatility (computed on daily returns)\n",
    "print('Volatility:',df.logRet.std())\n",
    "# Absolute return (on the whole period)\n",
    "print('Absolute return:',df.cumLogRet[-1]) # sum of all logreturns"
   ]
  },
  {
   "cell_type": "code",
   "execution_count": 42,
   "id": "4269cf89",
   "metadata": {},
   "outputs": [
    {
     "data": {
      "text/html": [
       "<div>\n",
       "<style scoped>\n",
       "    .dataframe tbody tr th:only-of-type {\n",
       "        vertical-align: middle;\n",
       "    }\n",
       "\n",
       "    .dataframe tbody tr th {\n",
       "        vertical-align: top;\n",
       "    }\n",
       "\n",
       "    .dataframe thead th {\n",
       "        text-align: right;\n",
       "    }\n",
       "</style>\n",
       "<table border=\"1\" class=\"dataframe\">\n",
       "  <thead>\n",
       "    <tr style=\"text-align: right;\">\n",
       "      <th></th>\n",
       "      <th>Adj Close</th>\n",
       "      <th>logRet</th>\n",
       "      <th>cumLogRet</th>\n",
       "      <th>value1USD</th>\n",
       "    </tr>\n",
       "    <tr>\n",
       "      <th>Date</th>\n",
       "      <th></th>\n",
       "      <th></th>\n",
       "      <th></th>\n",
       "      <th></th>\n",
       "    </tr>\n",
       "  </thead>\n",
       "  <tbody>\n",
       "    <tr>\n",
       "      <th>2013-01-01</th>\n",
       "      <td>1.320132</td>\n",
       "      <td>-0.001995</td>\n",
       "      <td>-0.029609</td>\n",
       "      <td>0.970825</td>\n",
       "    </tr>\n",
       "    <tr>\n",
       "      <th>2013-01-02</th>\n",
       "      <td>1.319784</td>\n",
       "      <td>-0.000264</td>\n",
       "      <td>-0.029873</td>\n",
       "      <td>0.970569</td>\n",
       "    </tr>\n",
       "    <tr>\n",
       "      <th>2013-01-03</th>\n",
       "      <td>1.318218</td>\n",
       "      <td>-0.001187</td>\n",
       "      <td>-0.031060</td>\n",
       "      <td>0.969417</td>\n",
       "    </tr>\n",
       "    <tr>\n",
       "      <th>2013-01-04</th>\n",
       "      <td>1.303271</td>\n",
       "      <td>-0.011403</td>\n",
       "      <td>-0.042463</td>\n",
       "      <td>0.958426</td>\n",
       "    </tr>\n",
       "    <tr>\n",
       "      <th>2013-01-07</th>\n",
       "      <td>1.306745</td>\n",
       "      <td>0.002662</td>\n",
       "      <td>-0.039801</td>\n",
       "      <td>0.960981</td>\n",
       "    </tr>\n",
       "    <tr>\n",
       "      <th>...</th>\n",
       "      <td>...</td>\n",
       "      <td>...</td>\n",
       "      <td>...</td>\n",
       "      <td>...</td>\n",
       "    </tr>\n",
       "    <tr>\n",
       "      <th>2013-12-25</th>\n",
       "      <td>1.368195</td>\n",
       "      <td>-0.001314</td>\n",
       "      <td>0.006152</td>\n",
       "      <td>1.006171</td>\n",
       "    </tr>\n",
       "    <tr>\n",
       "      <th>2013-12-26</th>\n",
       "      <td>1.366848</td>\n",
       "      <td>-0.000985</td>\n",
       "      <td>0.005167</td>\n",
       "      <td>1.005180</td>\n",
       "    </tr>\n",
       "    <tr>\n",
       "      <th>2013-12-27</th>\n",
       "      <td>1.369619</td>\n",
       "      <td>0.002025</td>\n",
       "      <td>0.007192</td>\n",
       "      <td>1.007218</td>\n",
       "    </tr>\n",
       "    <tr>\n",
       "      <th>2013-12-30</th>\n",
       "      <td>1.375024</td>\n",
       "      <td>0.003939</td>\n",
       "      <td>0.011131</td>\n",
       "      <td>1.011193</td>\n",
       "    </tr>\n",
       "    <tr>\n",
       "      <th>2013-12-31</th>\n",
       "      <td>1.381006</td>\n",
       "      <td>0.004341</td>\n",
       "      <td>0.015471</td>\n",
       "      <td>1.015592</td>\n",
       "    </tr>\n",
       "  </tbody>\n",
       "</table>\n",
       "<p>260 rows × 4 columns</p>\n",
       "</div>"
      ],
      "text/plain": [
       "            Adj Close    logRet  cumLogRet  value1USD\n",
       "Date                                                 \n",
       "2013-01-01   1.320132 -0.001995  -0.029609   0.970825\n",
       "2013-01-02   1.319784 -0.000264  -0.029873   0.970569\n",
       "2013-01-03   1.318218 -0.001187  -0.031060   0.969417\n",
       "2013-01-04   1.303271 -0.011403  -0.042463   0.958426\n",
       "2013-01-07   1.306745  0.002662  -0.039801   0.960981\n",
       "...               ...       ...        ...        ...\n",
       "2013-12-25   1.368195 -0.001314   0.006152   1.006171\n",
       "2013-12-26   1.366848 -0.000985   0.005167   1.005180\n",
       "2013-12-27   1.369619  0.002025   0.007192   1.007218\n",
       "2013-12-30   1.375024  0.003939   0.011131   1.011193\n",
       "2013-12-31   1.381006  0.004341   0.015471   1.015592\n",
       "\n",
       "[260 rows x 4 columns]"
      ]
     },
     "execution_count": 42,
     "metadata": {},
     "output_type": "execute_result"
    }
   ],
   "source": [
    "tmp = df[df['Adj Close'].to_frame().index>=pd.to_datetime('2013-01-01')]\n",
    "tmp[tmp['Adj Close'].to_frame().index<pd.to_datetime('2014-01-01')]"
   ]
  },
  {
   "cell_type": "markdown",
   "id": "eeb409a7",
   "metadata": {},
   "source": [
    "Usually to compare investments metrics, we need to compare taking in cosideration the same time periods. For this reason usually we use the annual metrics. We have to consider the nu"
   ]
  },
  {
   "cell_type": "code",
   "execution_count": 43,
   "id": "5fcbcd5d",
   "metadata": {},
   "outputs": [
    {
     "name": "stdout",
     "output_type": "stream",
     "text": [
      "Mean daily return: -0.01563697207847765\n",
      "Median daily return: 0.0\n",
      "Volatility: 0.108429674913964\n"
     ]
    }
   ],
   "source": [
    "# Mean annual returns\n",
    "print('Mean daily return:',df.logRet.mean()*260)\n",
    "# Median annual returns\n",
    "print('Median daily return:',df.logRet.median()*260)\n",
    "# Volatility (computed on daily returns)\n",
    "print('Volatility:',df.logRet.std()*np.sqrt(260))"
   ]
  },
  {
   "cell_type": "code",
   "execution_count": 46,
   "id": "a16eadc4",
   "metadata": {},
   "outputs": [
    {
     "name": "stdout",
     "output_type": "stream",
     "text": [
      "Absolute return: -0.015636972078477633\n"
     ]
    }
   ],
   "source": [
    "# Absolute annual return\n",
    "# Must be normalized by the number of traded days\n",
    "print('Absolute return:',df.cumLogRet[-1]*260/len(df)) # sum of all logreturns"
   ]
  },
  {
   "cell_type": "markdown",
   "id": "c440e419",
   "metadata": {},
   "source": [
    "# Max Drawdown"
   ]
  },
  {
   "cell_type": "markdown",
   "id": "ea6ad6d9",
   "metadata": {},
   "source": [
    "Usually trader do not use volatility to trade, but they use drawdown. Drawdown is the difference between the maximum cumulative return and the actual cumulative return. What does it mean? It can happen (almost always) that the trader do not sell when price is at its maximum value, but after it is lower (can still be profitable, but not as profitable as if the price was at its max). So it's kinda the \"error\" of the selling strategy."
   ]
  },
  {
   "cell_type": "code",
   "execution_count": 47,
   "id": "6121c39b",
   "metadata": {},
   "outputs": [],
   "source": [
    "df['cumLogRetMax'] = df.cumLogRet.cummax()"
   ]
  },
  {
   "cell_type": "code",
   "execution_count": 55,
   "id": "550b2c99",
   "metadata": {},
   "outputs": [
    {
     "data": {
      "text/plain": [
       "<Axes: xlabel='Date'>"
      ]
     },
     "execution_count": 55,
     "metadata": {},
     "output_type": "execute_result"
    },
    {
     "data": {
      "image/png": "[encoded data removed]",
      "text/plain": [
       "<Figure size 864x576 with 1 Axes>"
      ]
     },
     "metadata": {
      "needs_background": "light"
     },
     "output_type": "display_data"
    }
   ],
   "source": [
    "df[['cumLogRet', 'cumLogRetMax']].plot(figsize=(12,8))"
   ]
  },
  {
   "cell_type": "markdown",
   "id": "ef2256db",
   "metadata": {},
   "source": [
    "Looking at the plot we can see that the orange line is like the optimal value, and we can see the difference between the actual return and the best return we could have."
   ]
  },
  {
   "cell_type": "code",
   "execution_count": 50,
   "id": "75641c9e",
   "metadata": {},
   "outputs": [],
   "source": [
    "drawdown = df.cumLogRetMax - df.cumLogRet"
   ]
  },
  {
   "cell_type": "code",
   "execution_count": 52,
   "id": "9db79600",
   "metadata": {},
   "outputs": [
    {
     "data": {
      "text/plain": [
       "<Axes: xlabel='Date'>"
      ]
     },
     "execution_count": 52,
     "metadata": {},
     "output_type": "execute_result"
    },
    {
     "data": {
      "image/png": "[encoded data removed]",
      "text/plain": [
       "<Figure size 864x576 with 1 Axes>"
      ]
     },
     "metadata": {
      "needs_background": "light"
     },
     "output_type": "display_data"
    }
   ],
   "source": [
    "plt.figure(figsize=(12,8))\n",
    "drawdown.plot()"
   ]
  },
  {
   "cell_type": "code",
   "execution_count": 57,
   "id": "77ebfe9a",
   "metadata": {},
   "outputs": [
    {
     "data": {
      "text/plain": [
       "(0.45517485444477696, Timestamp('2022-09-28 00:00:00'))"
      ]
     },
     "execution_count": 57,
     "metadata": {},
     "output_type": "execute_result"
    }
   ],
   "source": [
    "drawdown.max(), drawdown.idxmax() # what traders want to know"
   ]
  }
 ],
 "metadata": {
  "kernelspec": {
   "display_name": "Python 3",
   "language": "python",
   "name": "python3"
  },
  "language_info": {
   "codemirror_mode": {
    "name": "ipython",
    "version": 3
   },
   "file_extension": ".py",
   "mimetype": "text/x-python",
   "name": "python",
   "nbconvert_exporter": "python",
   "pygments_lexer": "ipython3",
   "version": "3.8.17"
  }
 },
 "nbformat": 4,
 "nbformat_minor": 5
}
